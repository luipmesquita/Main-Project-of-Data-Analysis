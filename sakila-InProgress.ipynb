{
 "cells": [
  {
   "cell_type": "code",
   "execution_count": 22,
   "id": "2295dc3b-2ded-42e1-9955-be577221f098",
   "metadata": {},
   "outputs": [],
   "source": [
    "# Importing relevant libraries\n",
    "\n",
    "import numpy as np\n",
    "import pandas as pd\n",
    "import matplotlib\n",
    "import pymysql"
   ]
  },
  {
   "cell_type": "code",
   "execution_count": 23,
   "id": "eb50eeba-4ba3-44c5-8766-f18280650c78",
   "metadata": {},
   "outputs": [],
   "source": [
    "# Connection to the db\n",
    "\n",
    "conn = pymysql.connect(database = 'sakila', user = 'root', password = '365pass')"
   ]
  },
  {
   "cell_type": "code",
   "execution_count": 47,
   "id": "0a0254c4-c277-496a-8adc-18155d209b17",
   "metadata": {},
   "outputs": [],
   "source": [
    "myQuery = 'SELECT * FROM actor;'"
   ]
  },
  {
   "cell_type": "code",
   "execution_count": 67,
   "id": "c79bcf01-38c7-403b-a647-28d18b05034d",
   "metadata": {},
   "outputs": [
    {
     "name": "stdout",
     "output_type": "stream",
     "text": [
      "    First_name     Last_name\n",
      "0     PENELOPE       GUINESS\n",
      "1         NICK      WAHLBERG\n",
      "2           ED         CHASE\n",
      "3     JENNIFER         DAVIS\n",
      "4       JOHNNY  LOLLOBRIGIDA\n",
      "..         ...           ...\n",
      "195       BELA        WALKEN\n",
      "196      REESE          WEST\n",
      "197       MARY        KEITEL\n",
      "198      JULIA       FAWCETT\n",
      "199      THORA        TEMPLE\n",
      "\n",
      "[200 rows x 2 columns]\n"
     ]
    }
   ],
   "source": [
    "cursor = conn.cursor() \n",
    "cursor.execute(myQuery)\n",
    "rows = cursor.fetchall()\n",
    "rows = np.asarray(rows)\n",
    "df = pd.DataFrame(rows, columns = (['ID', 'First_name', 'Last_name', 'Time']))\n",
    "df = df.drop(['ID', 'Time'], axis=1)\n",
    "print(df)"
   ]
  },
  {
   "cell_type": "code",
   "execution_count": null,
   "id": "122679f5-a7c7-4384-8aa9-913820a8f296",
   "metadata": {},
   "outputs": [],
   "source": []
  }
 ],
 "metadata": {
  "kernelspec": {
   "display_name": "Python 3 (ipykernel)",
   "language": "python",
   "name": "python3"
  },
  "language_info": {
   "codemirror_mode": {
    "name": "ipython",
    "version": 3
   },
   "file_extension": ".py",
   "mimetype": "text/x-python",
   "name": "python",
   "nbconvert_exporter": "python",
   "pygments_lexer": "ipython3",
   "version": "3.10.14"
  }
 },
 "nbformat": 4,
 "nbformat_minor": 5
}
