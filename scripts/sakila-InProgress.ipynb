{
 "cells": [
  {
   "cell_type": "code",
   "execution_count": 1,
   "id": "2295dc3b-2ded-42e1-9955-be577221f098",
   "metadata": {},
   "outputs": [],
   "source": [
    "# Importing relevant libraries\n",
    "\n",
    "import numpy as np\n",
    "import pandas as pd\n",
    "import matplotlib.pyplot as plt\n",
    "import pymysql"
   ]
  },
  {
   "cell_type": "markdown",
   "id": "26e8e7d1-745a-42da-b82f-3f81f82e1029",
   "metadata": {},
   "source": [
    "# Loading the Data"
   ]
  },
  {
   "cell_type": "code",
   "execution_count": 2,
   "id": "eb50eeba-4ba3-44c5-8766-f18280650c78",
   "metadata": {},
   "outputs": [
    {
     "name": "stdout",
     "output_type": "stream",
     "text": [
      "Connected to the Sakila database\n"
     ]
    }
   ],
   "source": [
    "# Establishing connection to the db\n",
    "\n",
    "try:\n",
    "    conn = pymysql.connect(\n",
    "        host = 'localhost',\n",
    "        database = 'sakila', \n",
    "        user = 'root', \n",
    "        password = '365pass')\n",
    "    \n",
    "except:\n",
    "    print('Error connecting to the databse')\n",
    "        \n",
    "else:\n",
    "    print('Connected to the Sakila database')\n"
   ]
  },
  {
   "cell_type": "code",
   "execution_count": 3,
   "id": "0a0254c4-c277-496a-8adc-18155d209b17",
   "metadata": {},
   "outputs": [],
   "source": [
    "# Query tested on MySQL to retrive data for analysis\n",
    "myQuery = '''\n",
    "SELECT \n",
    "\tfilm.title, film.rental_rate, film.replacement_cost, film.rating, \n",
    "    store.store_id,\n",
    "    address.district, city.city, country.country,\n",
    "    rental.rental_id, DATE(rental.rental_date) AS rental_date, DATE(rental.return_date) AS return_date,\n",
    "    datediff(DATE(rental.return_date), DATE(rental.rental_date)) AS rental_duration,\n",
    "    payment.amount,\n",
    "    customer.customer_id, customer.first_name, customer.last_name, customer.email,\n",
    "    concat(customer.first_name, ' ', customer.last_name) AS customer_full_name\n",
    "    \n",
    "FROM \n",
    "\tinventory\n",
    "\t\tINNER JOIN\n",
    "    film ON inventory.film_id = film.film_id\n",
    "\t\tINNER JOIN\n",
    "\tstore ON inventory.store_id = store.store_id\n",
    "\t\tINNER JOIN\n",
    "\trental ON inventory.inventory_id = rental.inventory_id\n",
    "\t\tINNER JOIN\n",
    "\taddress ON store.address_id = address.address_id\n",
    "\t\tINNER JOIN\n",
    "\tcity ON address.city_id = city.city_id\n",
    "\t\tINNER JOIN\n",
    "\tcountry ON city.country_id = country.country_id\n",
    "\t\tINNER JOIN\n",
    "\tcustomer ON rental.customer_id = customer.customer_id\n",
    "        INNER JOIN\n",
    "    payment ON rental.rental_id = payment.rental_id;'''"
   ]
  },
  {
   "cell_type": "code",
   "execution_count": 4,
   "id": "c79bcf01-38c7-403b-a647-28d18b05034d",
   "metadata": {},
   "outputs": [],
   "source": [
    "# Executing SQL query\n",
    "cursor = conn.cursor() \n",
    "cursor.execute(myQuery)\n",
    "rows = cursor.fetchall()\n",
    "\n",
    "# Converting the queried rows to a DataFrame\n",
    "# DataFrames are more efficient and easier to make analysis\n",
    "\n",
    "rows = np.asarray(rows)\n",
    "columns = (['Film_Title', 'Film_Rental_Rate', 'Film_Replace_Cost', 'Film_Rating', \n",
    "            'Store_ID',\n",
    "            'District', 'City', 'Country',\n",
    "            'Rental_ID', 'Rental_Date', 'Rental_Return_Date',\n",
    "            'Rental_Duration',\n",
    "            'Payment_Amount',\n",
    "            'Customer_ID','Customer_First_Name', 'Customer_Last_Name', 'Customer_Email', 'Customer_Full_Name'])\n",
    "df = pd.DataFrame(rows, columns = columns)\n",
    "\n",
    "# Closing the connection\n",
    "cursor.close()\n",
    "conn.close()"
   ]
  },
  {
   "cell_type": "markdown",
   "id": "3f1be21d-686d-4c42-934b-b21af21c699c",
   "metadata": {},
   "source": [
    "# OVERVIEW OF THE DATA"
   ]
  },
  {
   "cell_type": "code",
   "execution_count": 5,
   "id": "b1413b7a-ce5f-450a-b6bb-8ee9f2745eaf",
   "metadata": {},
   "outputs": [
    {
     "data": {
      "text/plain": [
       "(16044, 18)"
      ]
     },
     "execution_count": 5,
     "metadata": {},
     "output_type": "execute_result"
    }
   ],
   "source": [
    "df.shape"
   ]
  },
  {
   "cell_type": "markdown",
   "id": "6edf5f7c-1dfa-459e-8591-f503be7b36d7",
   "metadata": {},
   "source": [
    "DF has: 16044 rows and 15 columns"
   ]
  },
  {
   "cell_type": "code",
   "execution_count": 6,
   "id": "97b3c6b1-4b29-48d6-a535-eaaac6285e0a",
   "metadata": {},
   "outputs": [
    {
     "data": {
      "text/html": [
       "<div>\n",
       "<style scoped>\n",
       "    .dataframe tbody tr th:only-of-type {\n",
       "        vertical-align: middle;\n",
       "    }\n",
       "\n",
       "    .dataframe tbody tr th {\n",
       "        vertical-align: top;\n",
       "    }\n",
       "\n",
       "    .dataframe thead th {\n",
       "        text-align: right;\n",
       "    }\n",
       "</style>\n",
       "<table border=\"1\" class=\"dataframe\">\n",
       "  <thead>\n",
       "    <tr style=\"text-align: right;\">\n",
       "      <th></th>\n",
       "      <th>Film_Title</th>\n",
       "      <th>Film_Rental_Rate</th>\n",
       "      <th>Film_Replace_Cost</th>\n",
       "      <th>Film_Rating</th>\n",
       "      <th>Store_ID</th>\n",
       "      <th>District</th>\n",
       "      <th>City</th>\n",
       "      <th>Country</th>\n",
       "      <th>Rental_ID</th>\n",
       "      <th>Rental_Date</th>\n",
       "      <th>Rental_Return_Date</th>\n",
       "      <th>Rental_Duration</th>\n",
       "      <th>Payment_Amount</th>\n",
       "      <th>Customer_ID</th>\n",
       "      <th>Customer_First_Name</th>\n",
       "      <th>Customer_Last_Name</th>\n",
       "      <th>Customer_Email</th>\n",
       "      <th>Customer_Full_Name</th>\n",
       "    </tr>\n",
       "  </thead>\n",
       "  <tbody>\n",
       "    <tr>\n",
       "      <th>0</th>\n",
       "      <td>ACADEMY DINOSAUR</td>\n",
       "      <td>0.99</td>\n",
       "      <td>20.99</td>\n",
       "      <td>PG</td>\n",
       "      <td>1</td>\n",
       "      <td>Alberta</td>\n",
       "      <td>Lethbridge</td>\n",
       "      <td>Canada</td>\n",
       "      <td>4863</td>\n",
       "      <td>2005-07-08</td>\n",
       "      <td>2005-07-11</td>\n",
       "      <td>3</td>\n",
       "      <td>0.99</td>\n",
       "      <td>431</td>\n",
       "      <td>JOEL</td>\n",
       "      <td>FRANCISCO</td>\n",
       "      <td>JOEL.FRANCISCO@sakilacustomer.org</td>\n",
       "      <td>JOEL FRANCISCO</td>\n",
       "    </tr>\n",
       "    <tr>\n",
       "      <th>1</th>\n",
       "      <td>ACADEMY DINOSAUR</td>\n",
       "      <td>0.99</td>\n",
       "      <td>20.99</td>\n",
       "      <td>PG</td>\n",
       "      <td>1</td>\n",
       "      <td>Alberta</td>\n",
       "      <td>Lethbridge</td>\n",
       "      <td>Canada</td>\n",
       "      <td>11433</td>\n",
       "      <td>2005-08-02</td>\n",
       "      <td>2005-08-11</td>\n",
       "      <td>9</td>\n",
       "      <td>3.99</td>\n",
       "      <td>518</td>\n",
       "      <td>GABRIEL</td>\n",
       "      <td>HARDER</td>\n",
       "      <td>GABRIEL.HARDER@sakilacustomer.org</td>\n",
       "      <td>GABRIEL HARDER</td>\n",
       "    </tr>\n",
       "    <tr>\n",
       "      <th>2</th>\n",
       "      <td>ACADEMY DINOSAUR</td>\n",
       "      <td>0.99</td>\n",
       "      <td>20.99</td>\n",
       "      <td>PG</td>\n",
       "      <td>1</td>\n",
       "      <td>Alberta</td>\n",
       "      <td>Lethbridge</td>\n",
       "      <td>Canada</td>\n",
       "      <td>14714</td>\n",
       "      <td>2005-08-21</td>\n",
       "      <td>2005-08-30</td>\n",
       "      <td>9</td>\n",
       "      <td>3.99</td>\n",
       "      <td>279</td>\n",
       "      <td>DIANNE</td>\n",
       "      <td>SHELTON</td>\n",
       "      <td>DIANNE.SHELTON@sakilacustomer.org</td>\n",
       "      <td>DIANNE SHELTON</td>\n",
       "    </tr>\n",
       "    <tr>\n",
       "      <th>3</th>\n",
       "      <td>ACADEMY DINOSAUR</td>\n",
       "      <td>0.99</td>\n",
       "      <td>20.99</td>\n",
       "      <td>PG</td>\n",
       "      <td>1</td>\n",
       "      <td>Alberta</td>\n",
       "      <td>Lethbridge</td>\n",
       "      <td>Canada</td>\n",
       "      <td>972</td>\n",
       "      <td>2005-05-30</td>\n",
       "      <td>2005-06-06</td>\n",
       "      <td>7</td>\n",
       "      <td>1.99</td>\n",
       "      <td>411</td>\n",
       "      <td>NORMAN</td>\n",
       "      <td>CURRIER</td>\n",
       "      <td>NORMAN.CURRIER@sakilacustomer.org</td>\n",
       "      <td>NORMAN CURRIER</td>\n",
       "    </tr>\n",
       "    <tr>\n",
       "      <th>4</th>\n",
       "      <td>ACADEMY DINOSAUR</td>\n",
       "      <td>0.99</td>\n",
       "      <td>20.99</td>\n",
       "      <td>PG</td>\n",
       "      <td>1</td>\n",
       "      <td>Alberta</td>\n",
       "      <td>Lethbridge</td>\n",
       "      <td>Canada</td>\n",
       "      <td>2117</td>\n",
       "      <td>2005-06-17</td>\n",
       "      <td>2005-06-23</td>\n",
       "      <td>6</td>\n",
       "      <td>0.99</td>\n",
       "      <td>170</td>\n",
       "      <td>BEATRICE</td>\n",
       "      <td>ARNOLD</td>\n",
       "      <td>BEATRICE.ARNOLD@sakilacustomer.org</td>\n",
       "      <td>BEATRICE ARNOLD</td>\n",
       "    </tr>\n",
       "  </tbody>\n",
       "</table>\n",
       "</div>"
      ],
      "text/plain": [
       "         Film_Title Film_Rental_Rate Film_Replace_Cost Film_Rating Store_ID  \\\n",
       "0  ACADEMY DINOSAUR             0.99             20.99          PG        1   \n",
       "1  ACADEMY DINOSAUR             0.99             20.99          PG        1   \n",
       "2  ACADEMY DINOSAUR             0.99             20.99          PG        1   \n",
       "3  ACADEMY DINOSAUR             0.99             20.99          PG        1   \n",
       "4  ACADEMY DINOSAUR             0.99             20.99          PG        1   \n",
       "\n",
       "  District        City Country Rental_ID Rental_Date Rental_Return_Date  \\\n",
       "0  Alberta  Lethbridge  Canada      4863  2005-07-08         2005-07-11   \n",
       "1  Alberta  Lethbridge  Canada     11433  2005-08-02         2005-08-11   \n",
       "2  Alberta  Lethbridge  Canada     14714  2005-08-21         2005-08-30   \n",
       "3  Alberta  Lethbridge  Canada       972  2005-05-30         2005-06-06   \n",
       "4  Alberta  Lethbridge  Canada      2117  2005-06-17         2005-06-23   \n",
       "\n",
       "  Rental_Duration Payment_Amount Customer_ID Customer_First_Name  \\\n",
       "0               3           0.99         431                JOEL   \n",
       "1               9           3.99         518             GABRIEL   \n",
       "2               9           3.99         279              DIANNE   \n",
       "3               7           1.99         411              NORMAN   \n",
       "4               6           0.99         170            BEATRICE   \n",
       "\n",
       "  Customer_Last_Name                      Customer_Email Customer_Full_Name  \n",
       "0          FRANCISCO   JOEL.FRANCISCO@sakilacustomer.org     JOEL FRANCISCO  \n",
       "1             HARDER   GABRIEL.HARDER@sakilacustomer.org     GABRIEL HARDER  \n",
       "2            SHELTON   DIANNE.SHELTON@sakilacustomer.org     DIANNE SHELTON  \n",
       "3            CURRIER   NORMAN.CURRIER@sakilacustomer.org     NORMAN CURRIER  \n",
       "4             ARNOLD  BEATRICE.ARNOLD@sakilacustomer.org    BEATRICE ARNOLD  "
      ]
     },
     "execution_count": 6,
     "metadata": {},
     "output_type": "execute_result"
    }
   ],
   "source": [
    "df.head()"
   ]
  },
  {
   "cell_type": "code",
   "execution_count": 7,
   "id": "2ee51995-6299-472e-8148-b9be756fcfd7",
   "metadata": {},
   "outputs": [
    {
     "data": {
      "text/html": [
       "<div>\n",
       "<style scoped>\n",
       "    .dataframe tbody tr th:only-of-type {\n",
       "        vertical-align: middle;\n",
       "    }\n",
       "\n",
       "    .dataframe tbody tr th {\n",
       "        vertical-align: top;\n",
       "    }\n",
       "\n",
       "    .dataframe thead th {\n",
       "        text-align: right;\n",
       "    }\n",
       "</style>\n",
       "<table border=\"1\" class=\"dataframe\">\n",
       "  <thead>\n",
       "    <tr style=\"text-align: right;\">\n",
       "      <th></th>\n",
       "      <th>Film_Title</th>\n",
       "      <th>Film_Rental_Rate</th>\n",
       "      <th>Film_Replace_Cost</th>\n",
       "      <th>Film_Rating</th>\n",
       "      <th>Store_ID</th>\n",
       "      <th>District</th>\n",
       "      <th>City</th>\n",
       "      <th>Country</th>\n",
       "      <th>Rental_ID</th>\n",
       "      <th>Rental_Date</th>\n",
       "      <th>Rental_Return_Date</th>\n",
       "      <th>Rental_Duration</th>\n",
       "      <th>Payment_Amount</th>\n",
       "      <th>Customer_ID</th>\n",
       "      <th>Customer_First_Name</th>\n",
       "      <th>Customer_Last_Name</th>\n",
       "      <th>Customer_Email</th>\n",
       "      <th>Customer_Full_Name</th>\n",
       "    </tr>\n",
       "  </thead>\n",
       "  <tbody>\n",
       "    <tr>\n",
       "      <th>count</th>\n",
       "      <td>16044</td>\n",
       "      <td>16044</td>\n",
       "      <td>16044</td>\n",
       "      <td>16044</td>\n",
       "      <td>16044</td>\n",
       "      <td>16044</td>\n",
       "      <td>16044</td>\n",
       "      <td>16044</td>\n",
       "      <td>16044</td>\n",
       "      <td>16044</td>\n",
       "      <td>15861</td>\n",
       "      <td>15861</td>\n",
       "      <td>16044</td>\n",
       "      <td>16044</td>\n",
       "      <td>16044</td>\n",
       "      <td>16044</td>\n",
       "      <td>16044</td>\n",
       "      <td>16044</td>\n",
       "    </tr>\n",
       "    <tr>\n",
       "      <th>unique</th>\n",
       "      <td>958</td>\n",
       "      <td>3</td>\n",
       "      <td>21</td>\n",
       "      <td>5</td>\n",
       "      <td>2</td>\n",
       "      <td>2</td>\n",
       "      <td>2</td>\n",
       "      <td>2</td>\n",
       "      <td>16044</td>\n",
       "      <td>41</td>\n",
       "      <td>84</td>\n",
       "      <td>11</td>\n",
       "      <td>19</td>\n",
       "      <td>599</td>\n",
       "      <td>591</td>\n",
       "      <td>599</td>\n",
       "      <td>599</td>\n",
       "      <td>599</td>\n",
       "    </tr>\n",
       "    <tr>\n",
       "      <th>top</th>\n",
       "      <td>BUCKET BROTHERHOOD</td>\n",
       "      <td>0.99</td>\n",
       "      <td>22.99</td>\n",
       "      <td>PG-13</td>\n",
       "      <td>2</td>\n",
       "      <td>QLD</td>\n",
       "      <td>Woodridge</td>\n",
       "      <td>Australia</td>\n",
       "      <td>4863</td>\n",
       "      <td>2005-07-31</td>\n",
       "      <td>2005-08-04</td>\n",
       "      <td>7</td>\n",
       "      <td>4.99</td>\n",
       "      <td>148</td>\n",
       "      <td>MARION</td>\n",
       "      <td>HUNT</td>\n",
       "      <td>ELEANOR.HUNT@sakilacustomer.org</td>\n",
       "      <td>ELEANOR HUNT</td>\n",
       "    </tr>\n",
       "    <tr>\n",
       "      <th>freq</th>\n",
       "      <td>34</td>\n",
       "      <td>5652</td>\n",
       "      <td>1044</td>\n",
       "      <td>3585</td>\n",
       "      <td>8121</td>\n",
       "      <td>8121</td>\n",
       "      <td>8121</td>\n",
       "      <td>8121</td>\n",
       "      <td>1</td>\n",
       "      <td>679</td>\n",
       "      <td>534</td>\n",
       "      <td>1821</td>\n",
       "      <td>3789</td>\n",
       "      <td>46</td>\n",
       "      <td>68</td>\n",
       "      <td>46</td>\n",
       "      <td>46</td>\n",
       "      <td>46</td>\n",
       "    </tr>\n",
       "  </tbody>\n",
       "</table>\n",
       "</div>"
      ],
      "text/plain": [
       "                Film_Title Film_Rental_Rate Film_Replace_Cost Film_Rating  \\\n",
       "count                16044            16044             16044       16044   \n",
       "unique                 958                3                21           5   \n",
       "top     BUCKET BROTHERHOOD             0.99             22.99       PG-13   \n",
       "freq                    34             5652              1044        3585   \n",
       "\n",
       "        Store_ID District       City    Country  Rental_ID Rental_Date  \\\n",
       "count      16044    16044      16044      16044      16044       16044   \n",
       "unique         2        2          2          2      16044          41   \n",
       "top            2      QLD  Woodridge  Australia       4863  2005-07-31   \n",
       "freq        8121     8121       8121       8121          1         679   \n",
       "\n",
       "       Rental_Return_Date  Rental_Duration Payment_Amount  Customer_ID  \\\n",
       "count               15861            15861          16044        16044   \n",
       "unique                 84               11             19          599   \n",
       "top            2005-08-04                7           4.99          148   \n",
       "freq                  534             1821           3789           46   \n",
       "\n",
       "       Customer_First_Name Customer_Last_Name  \\\n",
       "count                16044              16044   \n",
       "unique                 591                599   \n",
       "top                 MARION               HUNT   \n",
       "freq                    68                 46   \n",
       "\n",
       "                         Customer_Email Customer_Full_Name  \n",
       "count                             16044              16044  \n",
       "unique                              599                599  \n",
       "top     ELEANOR.HUNT@sakilacustomer.org       ELEANOR HUNT  \n",
       "freq                                 46                 46  "
      ]
     },
     "execution_count": 7,
     "metadata": {},
     "output_type": "execute_result"
    }
   ],
   "source": [
    "df.describe()"
   ]
  },
  {
   "cell_type": "code",
   "execution_count": 8,
   "id": "05392208-ba51-4e39-be39-cceca291d043",
   "metadata": {},
   "outputs": [
    {
     "name": "stdout",
     "output_type": "stream",
     "text": [
      "<class 'pandas.core.frame.DataFrame'>\n",
      "RangeIndex: 16044 entries, 0 to 16043\n",
      "Data columns (total 18 columns):\n",
      " #   Column               Non-Null Count  Dtype \n",
      "---  ------               --------------  ----- \n",
      " 0   Film_Title           16044 non-null  object\n",
      " 1   Film_Rental_Rate     16044 non-null  object\n",
      " 2   Film_Replace_Cost    16044 non-null  object\n",
      " 3   Film_Rating          16044 non-null  object\n",
      " 4   Store_ID             16044 non-null  object\n",
      " 5   District             16044 non-null  object\n",
      " 6   City                 16044 non-null  object\n",
      " 7   Country              16044 non-null  object\n",
      " 8   Rental_ID            16044 non-null  object\n",
      " 9   Rental_Date          16044 non-null  object\n",
      " 10  Rental_Return_Date   15861 non-null  object\n",
      " 11  Rental_Duration      15861 non-null  object\n",
      " 12  Payment_Amount       16044 non-null  object\n",
      " 13  Customer_ID          16044 non-null  object\n",
      " 14  Customer_First_Name  16044 non-null  object\n",
      " 15  Customer_Last_Name   16044 non-null  object\n",
      " 16  Customer_Email       16044 non-null  object\n",
      " 17  Customer_Full_Name   16044 non-null  object\n",
      "dtypes: object(18)\n",
      "memory usage: 2.2+ MB\n"
     ]
    }
   ],
   "source": [
    "df.info()"
   ]
  },
  {
   "cell_type": "markdown",
   "id": "e575018e-8383-4e0c-9bb4-25852eabab48",
   "metadata": {},
   "source": [
    "We can see that Return_Date has 15861 Non-Null values. Let's verify how many Nulls there are."
   ]
  },
  {
   "cell_type": "code",
   "execution_count": 9,
   "id": "dcea1a03-7835-407a-a4b4-214d84fc7e81",
   "metadata": {},
   "outputs": [
    {
     "name": "stdout",
     "output_type": "stream",
     "text": [
      "183\n"
     ]
    }
   ],
   "source": [
    "count=0\n",
    "for i in df['Rental_Return_Date']:\n",
    "    if(i is None):\n",
    "        count+=1\n",
    "print(count)"
   ]
  },
  {
   "cell_type": "code",
   "execution_count": 10,
   "id": "07a5e4c7-9938-4152-8546-9c31bc603bd1",
   "metadata": {},
   "outputs": [
    {
     "data": {
      "text/plain": [
       "16044"
      ]
     },
     "execution_count": 10,
     "metadata": {},
     "output_type": "execute_result"
    }
   ],
   "source": [
    "15861+count"
   ]
  },
  {
   "cell_type": "markdown",
   "id": "a3a8872b-0161-492e-a7eb-a7b68ab4e17c",
   "metadata": {},
   "source": [
    "So, we have 183 Null values that match with the 16044 when summed with 15861 Non-Null values.\n",
    "\n",
    "This evidence means that 183 times people did not return the movies DVD. "
   ]
  },
  {
   "cell_type": "markdown",
   "id": "5ee89212-941c-4995-a430-c51df8f2e75a",
   "metadata": {},
   "source": [
    "# Analyzing Numerical Fields\n",
    "\n",
    "Let's analyze the data types of each field"
   ]
  },
  {
   "cell_type": "code",
   "execution_count": 11,
   "id": "bfea72ae-a80b-473e-891d-79f3b69b2526",
   "metadata": {},
   "outputs": [
    {
     "data": {
      "text/plain": [
       "dtype('O')"
      ]
     },
     "execution_count": 11,
     "metadata": {},
     "output_type": "execute_result"
    }
   ],
   "source": [
    "df['Payment_Amount'].dtype"
   ]
  },
  {
   "cell_type": "markdown",
   "id": "59f1820f-6d19-4b21-87ea-53d2a20c07ae",
   "metadata": {},
   "source": [
    "Pandas freely uses object dtype when columns contain mixed values (strings, numbers, nan).\n",
    "\n",
    "So we have to give each column its proper data type."
   ]
  },
  {
   "cell_type": "code",
   "execution_count": 12,
   "id": "702857a2-4d7d-41fa-9a67-a5a2fb396a77",
   "metadata": {},
   "outputs": [],
   "source": [
    "df['Film_Rental_Rate']    = pd.to_numeric(df['Film_Rental_Rate'])\n",
    "df['Film_Replace_Cost']   = pd.to_numeric(df['Film_Replace_Cost'])\n",
    "df['Rental_ID']           = pd.to_numeric(df['Rental_ID'])\n",
    "df['Rental_Date']         = pd.to_datetime(df['Rental_Date'])\n",
    "df['Rental_Duration']     = pd.to_numeric(df['Rental_Duration'])\n",
    "df['Payment_Amount']      = pd.to_numeric(df['Payment_Amount'])"
   ]
  },
  {
   "cell_type": "code",
   "execution_count": 13,
   "id": "0db325db-5172-4d3f-90b1-0e03c83a7802",
   "metadata": {},
   "outputs": [
    {
     "data": {
      "text/html": [
       "<div>\n",
       "<style scoped>\n",
       "    .dataframe tbody tr th:only-of-type {\n",
       "        vertical-align: middle;\n",
       "    }\n",
       "\n",
       "    .dataframe tbody tr th {\n",
       "        vertical-align: top;\n",
       "    }\n",
       "\n",
       "    .dataframe thead th {\n",
       "        text-align: right;\n",
       "    }\n",
       "</style>\n",
       "<table border=\"1\" class=\"dataframe\">\n",
       "  <thead>\n",
       "    <tr style=\"text-align: right;\">\n",
       "      <th></th>\n",
       "      <th>Film_Rental_Rate</th>\n",
       "      <th>Film_Replace_Cost</th>\n",
       "      <th>Rental_ID</th>\n",
       "      <th>Rental_Date</th>\n",
       "      <th>Rental_Duration</th>\n",
       "      <th>Payment_Amount</th>\n",
       "    </tr>\n",
       "  </thead>\n",
       "  <tbody>\n",
       "    <tr>\n",
       "      <th>count</th>\n",
       "      <td>16044.000000</td>\n",
       "      <td>16044.000000</td>\n",
       "      <td>16044.000000</td>\n",
       "      <td>16044</td>\n",
       "      <td>15861.000000</td>\n",
       "      <td>16044.000000</td>\n",
       "    </tr>\n",
       "    <tr>\n",
       "      <th>mean</th>\n",
       "      <td>2.942630</td>\n",
       "      <td>20.215443</td>\n",
       "      <td>8025.371478</td>\n",
       "      <td>2005-07-22 20:13:38.548990336</td>\n",
       "      <td>5.025219</td>\n",
       "      <td>4.201356</td>\n",
       "    </tr>\n",
       "    <tr>\n",
       "      <th>min</th>\n",
       "      <td>0.990000</td>\n",
       "      <td>9.990000</td>\n",
       "      <td>1.000000</td>\n",
       "      <td>2005-05-24 00:00:00</td>\n",
       "      <td>0.000000</td>\n",
       "      <td>0.000000</td>\n",
       "    </tr>\n",
       "    <tr>\n",
       "      <th>25%</th>\n",
       "      <td>0.990000</td>\n",
       "      <td>14.990000</td>\n",
       "      <td>4013.750000</td>\n",
       "      <td>2005-07-07 00:00:00</td>\n",
       "      <td>3.000000</td>\n",
       "      <td>2.990000</td>\n",
       "    </tr>\n",
       "    <tr>\n",
       "      <th>50%</th>\n",
       "      <td>2.990000</td>\n",
       "      <td>20.990000</td>\n",
       "      <td>8025.500000</td>\n",
       "      <td>2005-07-28 00:00:00</td>\n",
       "      <td>5.000000</td>\n",
       "      <td>3.990000</td>\n",
       "    </tr>\n",
       "    <tr>\n",
       "      <th>75%</th>\n",
       "      <td>4.990000</td>\n",
       "      <td>25.990000</td>\n",
       "      <td>12037.250000</td>\n",
       "      <td>2005-08-17 00:00:00</td>\n",
       "      <td>7.000000</td>\n",
       "      <td>4.990000</td>\n",
       "    </tr>\n",
       "    <tr>\n",
       "      <th>max</th>\n",
       "      <td>4.990000</td>\n",
       "      <td>29.990000</td>\n",
       "      <td>16049.000000</td>\n",
       "      <td>2006-02-14 00:00:00</td>\n",
       "      <td>10.000000</td>\n",
       "      <td>11.990000</td>\n",
       "    </tr>\n",
       "    <tr>\n",
       "      <th>std</th>\n",
       "      <td>1.649678</td>\n",
       "      <td>6.081771</td>\n",
       "      <td>4632.777249</td>\n",
       "      <td>NaN</td>\n",
       "      <td>2.611835</td>\n",
       "      <td>2.362961</td>\n",
       "    </tr>\n",
       "  </tbody>\n",
       "</table>\n",
       "</div>"
      ],
      "text/plain": [
       "       Film_Rental_Rate  Film_Replace_Cost     Rental_ID  \\\n",
       "count      16044.000000       16044.000000  16044.000000   \n",
       "mean           2.942630          20.215443   8025.371478   \n",
       "min            0.990000           9.990000      1.000000   \n",
       "25%            0.990000          14.990000   4013.750000   \n",
       "50%            2.990000          20.990000   8025.500000   \n",
       "75%            4.990000          25.990000  12037.250000   \n",
       "max            4.990000          29.990000  16049.000000   \n",
       "std            1.649678           6.081771   4632.777249   \n",
       "\n",
       "                         Rental_Date  Rental_Duration  Payment_Amount  \n",
       "count                          16044     15861.000000    16044.000000  \n",
       "mean   2005-07-22 20:13:38.548990336         5.025219        4.201356  \n",
       "min              2005-05-24 00:00:00         0.000000        0.000000  \n",
       "25%              2005-07-07 00:00:00         3.000000        2.990000  \n",
       "50%              2005-07-28 00:00:00         5.000000        3.990000  \n",
       "75%              2005-08-17 00:00:00         7.000000        4.990000  \n",
       "max              2006-02-14 00:00:00        10.000000       11.990000  \n",
       "std                              NaN         2.611835        2.362961  "
      ]
     },
     "execution_count": 13,
     "metadata": {},
     "output_type": "execute_result"
    }
   ],
   "source": [
    "df.describe()"
   ]
  },
  {
   "cell_type": "markdown",
   "id": "a4ca08a2-5095-4b46-9af0-cda148d1bcce",
   "metadata": {},
   "source": [
    "- The maximun payed amount was 11.99\n",
    "- The average payed amount is 4.20\n",
    "- The maximum rental duration was 10 days\n",
    "- The average rental duration is 5 days\n",
    "- The replacement cost for all the movies in between 29.99 and 9.99\n",
    "- The average replacement cost is 20.22"
   ]
  },
  {
   "cell_type": "code",
   "execution_count": 14,
   "id": "1d6e733d-9371-4e65-b3e6-2f63a94277a5",
   "metadata": {},
   "outputs": [
    {
     "data": {
      "text/plain": [
       "<Axes: >"
      ]
     },
     "execution_count": 14,
     "metadata": {},
     "output_type": "execute_result"
    },
    {
     "data": {
      "image/png": "[encoded data removed]",
      "text/plain": [
       "<Figure size 640x480 with 1 Axes>"
      ]
     },
     "metadata": {},
     "output_type": "display_data"
    }
   ],
   "source": [
    "df['Rental_Duration'].plot(kind = 'box')"
   ]
  },
  {
   "cell_type": "code",
   "execution_count": 15,
   "id": "685e1539-cdd5-445d-9db4-380a3c57c57d",
   "metadata": {},
   "outputs": [
    {
     "data": {
      "text/plain": [
       "<Axes: >"
      ]
     },
     "execution_count": 15,
     "metadata": {},
     "output_type": "execute_result"
    },
    {
     "data": {
      "image/png": "[encoded data removed]",
      "text/plain": [
       "<Figure size 640x480 with 1 Axes>"
      ]
     },
     "metadata": {},
     "output_type": "display_data"
    }
   ],
   "source": [
    "df['Payment_Amount'].plot(kind = 'box', vert = False)"
   ]
  },
  {
   "cell_type": "markdown",
   "id": "a6a517d0-99dd-4c6e-90dd-4b9b03fbed8d",
   "metadata": {},
   "source": [
    "# Analizing Categorical Fields\n"
   ]
  },
  {
   "cell_type": "code",
   "execution_count": 16,
   "id": "71bba94d-dfd9-4daa-9ca6-057282ff7ec6",
   "metadata": {},
   "outputs": [
    {
     "data": {
      "text/plain": [
       "<Axes: title={'center': 'Number of Rentals by Country'}, ylabel='count'>"
      ]
     },
     "execution_count": 16,
     "metadata": {},
     "output_type": "execute_result"
    },
    {
     "data": {
      "image/png": "[encoded data removed]",
      "text/plain": [
       "<Figure size 640x480 with 1 Axes>"
      ]
     },
     "metadata": {},
     "output_type": "display_data"
    }
   ],
   "source": [
    "df['Country'].value_counts().plot(kind   = 'pie',\n",
    "                                  title  = 'Number of Rentals by Country',\n",
    "                                  colors = ['blue', 'red']\n",
    "                                  )"
   ]
  },
  {
   "cell_type": "code",
   "execution_count": 17,
   "id": "8c159214-0b2f-471b-b737-88f614bd7b0f",
   "metadata": {},
   "outputs": [
    {
     "data": {
      "text/plain": [
       "<Axes: title={'center': 'Number of Films by Rating'}, xlabel='Number of Films', ylabel='Film Rating'>"
      ]
     },
     "execution_count": 17,
     "metadata": {},
     "output_type": "execute_result"
    },
    {
     "data": {
      "image/png": "[encoded data removed]",
      "text/plain": [
       "<Figure size 640x480 with 1 Axes>"
      ]
     },
     "metadata": {},
     "output_type": "display_data"
    }
   ],
   "source": [
    "df['Film_Rating'].value_counts().plot(kind   = 'barh',                                      \n",
    "                                      title  = 'Number of Films by Rating',\n",
    "                                      xlabel = 'Number of Films',\n",
    "                                      ylabel = 'Film Rating',\n",
    "                                      rot    = 0\n",
    "                                      )"
   ]
  },
  {
   "cell_type": "code",
   "execution_count": 18,
   "id": "59a72eb9-30b6-4ad2-8aa2-8915b3fab59a",
   "metadata": {},
   "outputs": [
    {
     "data": {
      "text/plain": [
       "<Axes: title={'center': 'Number of Rentals by Price'}, xlabel='Rental Rates', ylabel='Number of Films'>"
      ]
     },
     "execution_count": 18,
     "metadata": {},
     "output_type": "execute_result"
    },
    {
     "data": {
      "image/png": "[encoded data removed]",
      "text/plain": [
       "<Figure size 640x480 with 1 Axes>"
      ]
     },
     "metadata": {},
     "output_type": "display_data"
    }
   ],
   "source": [
    "df['Film_Rental_Rate'].value_counts().sort_index().plot(kind  = 'bar',\n",
    "                                                       title  = 'Number of Rentals by Price',\n",
    "                                                       ylabel = 'Number of Films',\n",
    "                                                       xlabel = 'Rental Rates',\n",
    "                                                       rot    = 0\n",
    "                                                       )"
   ]
  },
  {
   "cell_type": "markdown",
   "id": "0d9b5436-63db-4635-a39d-bb3af35df15b",
   "metadata": {},
   "source": [
    "## Top 10 most rented films"
   ]
  },
  {
   "cell_type": "code",
   "execution_count": 19,
   "id": "2886ca1e-519e-4fd0-8104-0c79b753d2dc",
   "metadata": {},
   "outputs": [
    {
     "data": {
      "text/plain": [
       "Film_Title\n",
       "BUCKET BROTHERHOOD     34\n",
       "ROCKETEER MOTHER       33\n",
       "SCALAWAG DUCK          32\n",
       "FORWARD TEMPLE         32\n",
       "JUGGLER HARDLY         32\n",
       "RIDGEMONT SUBMARINE    32\n",
       "GRIT CLOCKWORK         32\n",
       "GOODFELLAS SALUTE      31\n",
       "TIMBERLAND SKY         31\n",
       "APACHE DIVINE          31\n",
       "Name: count, dtype: int64"
      ]
     },
     "execution_count": 19,
     "metadata": {},
     "output_type": "execute_result"
    }
   ],
   "source": [
    "df['Film_Title'].value_counts().head(10) "
   ]
  },
  {
   "cell_type": "markdown",
   "id": "2af6bb82-5fa7-47be-8e80-ff7dd063b90a",
   "metadata": {},
   "source": [
    "# Objetive 1 - Identify the Top10 most active Customers based on Rentals"
   ]
  },
  {
   "cell_type": "code",
   "execution_count": 70,
   "id": "66df1ee9-89e3-46ff-91bf-888e6839bd3d",
   "metadata": {},
   "outputs": [
    {
     "data": {
      "text/html": [
       "<div>\n",
       "<style scoped>\n",
       "    .dataframe tbody tr th:only-of-type {\n",
       "        vertical-align: middle;\n",
       "    }\n",
       "\n",
       "    .dataframe tbody tr th {\n",
       "        vertical-align: top;\n",
       "    }\n",
       "\n",
       "    .dataframe thead th {\n",
       "        text-align: right;\n",
       "    }\n",
       "</style>\n",
       "<table border=\"1\" class=\"dataframe\">\n",
       "  <thead>\n",
       "    <tr style=\"text-align: right;\">\n",
       "      <th></th>\n",
       "      <th>Customer Full Name</th>\n",
       "      <th>Rental Counts</th>\n",
       "    </tr>\n",
       "    <tr>\n",
       "      <th>Customer ID</th>\n",
       "      <th></th>\n",
       "      <th></th>\n",
       "    </tr>\n",
       "  </thead>\n",
       "  <tbody>\n",
       "    <tr>\n",
       "      <th>148</th>\n",
       "      <td>ELEANOR HUNT</td>\n",
       "      <td>46</td>\n",
       "    </tr>\n",
       "    <tr>\n",
       "      <th>526</th>\n",
       "      <td>KARL SEAL</td>\n",
       "      <td>45</td>\n",
       "    </tr>\n",
       "    <tr>\n",
       "      <th>236</th>\n",
       "      <td>MARCIA DEAN</td>\n",
       "      <td>42</td>\n",
       "    </tr>\n",
       "    <tr>\n",
       "      <th>144</th>\n",
       "      <td>CLARA SHAW</td>\n",
       "      <td>42</td>\n",
       "    </tr>\n",
       "    <tr>\n",
       "      <th>75</th>\n",
       "      <td>TAMMY SANDERS</td>\n",
       "      <td>41</td>\n",
       "    </tr>\n",
       "    <tr>\n",
       "      <th>197</th>\n",
       "      <td>SUE PETERS</td>\n",
       "      <td>40</td>\n",
       "    </tr>\n",
       "    <tr>\n",
       "      <th>469</th>\n",
       "      <td>WESLEY BULL</td>\n",
       "      <td>40</td>\n",
       "    </tr>\n",
       "    <tr>\n",
       "      <th>137</th>\n",
       "      <td>RHONDA KENNEDY</td>\n",
       "      <td>39</td>\n",
       "    </tr>\n",
       "    <tr>\n",
       "      <th>468</th>\n",
       "      <td>TIM CARY</td>\n",
       "      <td>39</td>\n",
       "    </tr>\n",
       "    <tr>\n",
       "      <th>178</th>\n",
       "      <td>MARION SNYDER</td>\n",
       "      <td>39</td>\n",
       "    </tr>\n",
       "  </tbody>\n",
       "</table>\n",
       "</div>"
      ],
      "text/plain": [
       "            Customer Full Name  Rental Counts\n",
       "Customer ID                                  \n",
       "148               ELEANOR HUNT             46\n",
       "526                  KARL SEAL             45\n",
       "236                MARCIA DEAN             42\n",
       "144                 CLARA SHAW             42\n",
       "75               TAMMY SANDERS             41\n",
       "197                 SUE PETERS             40\n",
       "469                WESLEY BULL             40\n",
       "137             RHONDA KENNEDY             39\n",
       "468                   TIM CARY             39\n",
       "178              MARION SNYDER             39"
      ]
     },
     "execution_count": 70,
     "metadata": {},
     "output_type": "execute_result"
    }
   ],
   "source": [
    "Top = 10\n",
    "\n",
    "Data = {'Customer ID': df['Customer_ID'].value_counts().head(Top).index,\n",
    "        'Customer Full Name': df['Customer_Full_Name'].value_counts().head(Top).index,\n",
    "        'Rental Counts': df['Customer_Full_Name'].value_counts().head(Top).values}\n",
    "\n",
    "TopCustomersDP = pd.DataFrame(Data)\n",
    "TopCustomersDP.set_index('Customer ID', inplace = True)\n",
    "TopCustomersDP\n"
   ]
  },
  {
   "cell_type": "markdown",
   "id": "9b046d8f-7fe3-4e9f-87a7-78c4b67f4b40",
   "metadata": {},
   "source": [
    "# Objetive 2 - Identify which Country has more sales"
   ]
  },
  {
   "cell_type": "code",
   "execution_count": 34,
   "id": "09b2b67a-3421-4959-8c9a-c55d96f3772e",
   "metadata": {},
   "outputs": [
    {
     "data": {
      "text/plain": [
       "Country\n",
       "Australia    8121\n",
       "Canada       7923\n",
       "Name: count, dtype: int64"
      ]
     },
     "execution_count": 34,
     "metadata": {},
     "output_type": "execute_result"
    }
   ],
   "source": [
    "df['Country'].value_counts()"
   ]
  },
  {
   "cell_type": "code",
   "execution_count": 36,
   "id": "4678b831-a1b8-421b-860c-28572298b8b0",
   "metadata": {},
   "outputs": [],
   "source": [
    "dfCanada = df[df['Country'] == 'Canada']\n",
    "dfAustralia = df[df['Country'] == 'Australia']"
   ]
  },
  {
   "cell_type": "code",
   "execution_count": 45,
   "id": "3cb3b575-5b8c-4912-8feb-ab7d6ef6b938",
   "metadata": {},
   "outputs": [],
   "source": [
    "TotalSalesCanada = np.round(dfCanada['Payment_Amount'].sum(),2)\n",
    "TotalSalesAustralia = np.round(dfAustralia['Payment_Amount'].sum(),2)\n"
   ]
  },
  {
   "cell_type": "code",
   "execution_count": 46,
   "id": "8550d461-1f10-400b-9482-72b3cb70c64e",
   "metadata": {},
   "outputs": [
    {
     "data": {
      "text/plain": [
       "33679.79"
      ]
     },
     "execution_count": 46,
     "metadata": {},
     "output_type": "execute_result"
    }
   ],
   "source": [
    "TotalSalesCanada"
   ]
  },
  {
   "cell_type": "code",
   "execution_count": 47,
   "id": "7260f90a-2b4c-4cb2-8387-ca2ca8eac2ef",
   "metadata": {},
   "outputs": [
    {
     "data": {
      "text/plain": [
       "33726.77"
      ]
     },
     "execution_count": 47,
     "metadata": {},
     "output_type": "execute_result"
    }
   ],
   "source": [
    "TotalSalesAustralia"
   ]
  },
  {
   "cell_type": "markdown",
   "id": "9354aa6a-9d5a-4b8a-85d2-dcc6abf76ce9",
   "metadata": {},
   "source": [
    "Both Countries have similar volume of Sales.\n",
    "- Canada has 33 679.79\n",
    "- Australia has 33 726.77"
   ]
  },
  {
   "cell_type": "code",
   "execution_count": 81,
   "id": "962a9953-86bd-41cf-8c8e-76f9f4b80188",
   "metadata": {},
   "outputs": [
    {
     "data": {
      "text/plain": [
       "<pandas.core.groupby.generic.DataFrameGroupBy object at 0x000001B373FEE0B0>"
      ]
     },
     "execution_count": 81,
     "metadata": {},
     "output_type": "execute_result"
    }
   ],
   "source": [
    "df[['Customer_Full_Name', 'Payment_Amount']].groupby()"
   ]
  },
  {
   "cell_type": "code",
   "execution_count": 79,
   "id": "e8f44b29-9473-4e67-9040-8f9448b418c7",
   "metadata": {},
   "outputs": [
    {
     "data": {
      "text/plain": [
       "<pandas.core.groupby.generic.DataFrameGroupBy object at 0x000001B372D32A10>"
      ]
     },
     "execution_count": 79,
     "metadata": {},
     "output_type": "execute_result"
    }
   ],
   "source": [
    "grouped = df.groupby('Customer_Full_Name')\n",
    "grouped"
   ]
  },
  {
   "cell_type": "code",
   "execution_count": null,
   "id": "7bfafffd-490f-4ed3-a670-cc1d94701729",
   "metadata": {},
   "outputs": [],
   "source": []
  }
 ],
 "metadata": {
  "kernelspec": {
   "display_name": "Python 3 (ipykernel)",
   "language": "python",
   "name": "python3"
  },
  "language_info": {
   "codemirror_mode": {
    "name": "ipython",
    "version": 3
   },
   "file_extension": ".py",
   "mimetype": "text/x-python",
   "name": "python",
   "nbconvert_exporter": "python",
   "pygments_lexer": "ipython3",
   "version": "3.10.14"
  }
 },
 "nbformat": 4,
 "nbformat_minor": 5
}
