{
 "cells": [
  {
   "cell_type": "code",
   "execution_count": 1,
   "id": "2295dc3b-2ded-42e1-9955-be577221f098",
   "metadata": {},
   "outputs": [],
   "source": [
    "# Importing relevant libraries\n",
    "import numpy as np\n",
    "import pandas as pd\n",
    "import matplotlib.pyplot as plt\n",
    "import math\n",
    "import pymysql"
   ]
  },
  {
   "cell_type": "markdown",
   "id": "26e8e7d1-745a-42da-b82f-3f81f82e1029",
   "metadata": {},
   "source": [
    "# Loading the Data"
   ]
  },
  {
   "cell_type": "code",
   "execution_count": 2,
   "id": "eb50eeba-4ba3-44c5-8766-f18280650c78",
   "metadata": {},
   "outputs": [
    {
     "name": "stdout",
     "output_type": "stream",
     "text": [
      "Connected to the Sakila database\n"
     ]
    }
   ],
   "source": [
    "# Establishing connection to the db\n",
    "try:\n",
    "    conn = pymysql.connect(\n",
    "        host = 'localhost',\n",
    "        database = 'sakila', \n",
    "        user = 'root', \n",
    "        password = 'pass')\n",
    "    \n",
    "except:\n",
    "    print('Error connecting to the databse')\n",
    "        \n",
    "else:\n",
    "    print('Connected to the Sakila database')"
   ]
  },
  {
   "cell_type": "code",
   "execution_count": 3,
   "id": "0a0254c4-c277-496a-8adc-18155d209b17",
   "metadata": {},
   "outputs": [],
   "source": [
    "# Query tested on MySQL to retrive data for analysis\n",
    "myQuery = '''\n",
    "SELECT \n",
    "\tfilm.title, film.rental_rate, film.replacement_cost, film.rating, \n",
    "    store.store_id,\n",
    "    address.district, city.city, country.country,\n",
    "    rental.rental_id, DATE(rental.rental_date) AS rental_date, DATE(rental.return_date) AS return_date,\n",
    "    datediff(DATE(rental.return_date), DATE(rental.rental_date)) AS rental_duration,\n",
    "    payment.amount,\n",
    "    customer.customer_id, customer.first_name, customer.last_name, customer.email,\n",
    "    concat(customer.first_name, ' ', customer.last_name) AS customer_full_name\n",
    "    \n",
    "FROM \n",
    "\tinventory\n",
    "\t\tINNER JOIN\n",
    "    film ON inventory.film_id = film.film_id\n",
    "\t\tINNER JOIN\n",
    "\tstore ON inventory.store_id = store.store_id\n",
    "\t\tINNER JOIN\n",
    "\trental ON inventory.inventory_id = rental.inventory_id\n",
    "\t\tINNER JOIN\n",
    "\taddress ON store.address_id = address.address_id\n",
    "\t\tINNER JOIN\n",
    "\tcity ON address.city_id = city.city_id\n",
    "\t\tINNER JOIN\n",
    "\tcountry ON city.country_id = country.country_id\n",
    "\t\tINNER JOIN\n",
    "\tcustomer ON rental.customer_id = customer.customer_id\n",
    "        INNER JOIN\n",
    "    payment ON rental.rental_id = payment.rental_id;'''"
   ]
  },
  {
   "cell_type": "code",
   "execution_count": 4,
   "id": "c79bcf01-38c7-403b-a647-28d18b05034d",
   "metadata": {},
   "outputs": [],
   "source": [
    "# Executing SQL query\n",
    "cursor = conn.cursor() \n",
    "cursor.execute(myQuery)\n",
    "rows = cursor.fetchall()\n",
    "\n",
    "# Converting the queried rows to a DataFrame\n",
    "# DataFrames are more efficient and easier to make analysis\n",
    "\n",
    "rows = np.asarray(rows)\n",
    "columns = (['Film_Title', 'Film_Rental_Rate', 'Film_Replace_Cost', 'Film_Rating', \n",
    "            'Store_ID',\n",
    "            'District', 'City', 'Country',\n",
    "            'Rental_ID', 'Rental_Date', 'Rental_Return_Date',\n",
    "            'Rental_Duration',\n",
    "            'Payment_Amount',\n",
    "            'Customer_ID','Customer_First_Name', 'Customer_Last_Name', 'Customer_Email', 'Customer_Full_Name'])\n",
    "df = pd.DataFrame(rows, columns = columns)\n",
    "\n",
    "# Closing the connection\n",
    "cursor.close()\n",
    "conn.close()"
   ]
  },
  {
   "cell_type": "markdown",
   "id": "3f1be21d-686d-4c42-934b-b21af21c699c",
   "metadata": {},
   "source": [
    "# OVERVIEW OF THE DATA"
   ]
  },
  {
   "cell_type": "code",
   "execution_count": 5,
   "id": "b1413b7a-ce5f-450a-b6bb-8ee9f2745eaf",
   "metadata": {},
   "outputs": [
    {
     "data": {
      "text/plain": [
       "(16044, 18)"
      ]
     },
     "execution_count": 5,
     "metadata": {},
     "output_type": "execute_result"
    }
   ],
   "source": [
    "df.shape"
   ]
  },
  {
   "cell_type": "markdown",
   "id": "6edf5f7c-1dfa-459e-8591-f503be7b36d7",
   "metadata": {},
   "source": [
    "DF has: 16044 rows and 15 columns"
   ]
  },
  {
   "cell_type": "code",
   "execution_count": 6,
   "id": "97b3c6b1-4b29-48d6-a535-eaaac6285e0a",
   "metadata": {},
   "outputs": [
    {
     "data": {
      "text/html": [
       "<div>\n",
       "<style scoped>\n",
       "    .dataframe tbody tr th:only-of-type {\n",
       "        vertical-align: middle;\n",
       "    }\n",
       "\n",
       "    .dataframe tbody tr th {\n",
       "        vertical-align: top;\n",
       "    }\n",
       "\n",
       "    .dataframe thead th {\n",
       "        text-align: right;\n",
       "    }\n",
       "</style>\n",
       "<table border=\"1\" class=\"dataframe\">\n",
       "  <thead>\n",
       "    <tr style=\"text-align: right;\">\n",
       "      <th></th>\n",
       "      <th>Film_Title</th>\n",
       "      <th>Film_Rental_Rate</th>\n",
       "      <th>Film_Replace_Cost</th>\n",
       "      <th>Film_Rating</th>\n",
       "      <th>Store_ID</th>\n",
       "      <th>District</th>\n",
       "      <th>City</th>\n",
       "      <th>Country</th>\n",
       "      <th>Rental_ID</th>\n",
       "      <th>Rental_Date</th>\n",
       "      <th>Rental_Return_Date</th>\n",
       "      <th>Rental_Duration</th>\n",
       "      <th>Payment_Amount</th>\n",
       "      <th>Customer_ID</th>\n",
       "      <th>Customer_First_Name</th>\n",
       "      <th>Customer_Last_Name</th>\n",
       "      <th>Customer_Email</th>\n",
       "      <th>Customer_Full_Name</th>\n",
       "    </tr>\n",
       "  </thead>\n",
       "  <tbody>\n",
       "    <tr>\n",
       "      <th>0</th>\n",
       "      <td>ACADEMY DINOSAUR</td>\n",
       "      <td>0.99</td>\n",
       "      <td>20.99</td>\n",
       "      <td>PG</td>\n",
       "      <td>1</td>\n",
       "      <td>Alberta</td>\n",
       "      <td>Lethbridge</td>\n",
       "      <td>Canada</td>\n",
       "      <td>4863</td>\n",
       "      <td>2005-07-08</td>\n",
       "      <td>2005-07-11</td>\n",
       "      <td>3</td>\n",
       "      <td>0.99</td>\n",
       "      <td>431</td>\n",
       "      <td>JOEL</td>\n",
       "      <td>FRANCISCO</td>\n",
       "      <td>JOEL.FRANCISCO@sakilacustomer.org</td>\n",
       "      <td>JOEL FRANCISCO</td>\n",
       "    </tr>\n",
       "    <tr>\n",
       "      <th>1</th>\n",
       "      <td>ACADEMY DINOSAUR</td>\n",
       "      <td>0.99</td>\n",
       "      <td>20.99</td>\n",
       "      <td>PG</td>\n",
       "      <td>1</td>\n",
       "      <td>Alberta</td>\n",
       "      <td>Lethbridge</td>\n",
       "      <td>Canada</td>\n",
       "      <td>11433</td>\n",
       "      <td>2005-08-02</td>\n",
       "      <td>2005-08-11</td>\n",
       "      <td>9</td>\n",
       "      <td>3.99</td>\n",
       "      <td>518</td>\n",
       "      <td>GABRIEL</td>\n",
       "      <td>HARDER</td>\n",
       "      <td>GABRIEL.HARDER@sakilacustomer.org</td>\n",
       "      <td>GABRIEL HARDER</td>\n",
       "    </tr>\n",
       "    <tr>\n",
       "      <th>2</th>\n",
       "      <td>ACADEMY DINOSAUR</td>\n",
       "      <td>0.99</td>\n",
       "      <td>20.99</td>\n",
       "      <td>PG</td>\n",
       "      <td>1</td>\n",
       "      <td>Alberta</td>\n",
       "      <td>Lethbridge</td>\n",
       "      <td>Canada</td>\n",
       "      <td>14714</td>\n",
       "      <td>2005-08-21</td>\n",
       "      <td>2005-08-30</td>\n",
       "      <td>9</td>\n",
       "      <td>3.99</td>\n",
       "      <td>279</td>\n",
       "      <td>DIANNE</td>\n",
       "      <td>SHELTON</td>\n",
       "      <td>DIANNE.SHELTON@sakilacustomer.org</td>\n",
       "      <td>DIANNE SHELTON</td>\n",
       "    </tr>\n",
       "    <tr>\n",
       "      <th>3</th>\n",
       "      <td>ACADEMY DINOSAUR</td>\n",
       "      <td>0.99</td>\n",
       "      <td>20.99</td>\n",
       "      <td>PG</td>\n",
       "      <td>1</td>\n",
       "      <td>Alberta</td>\n",
       "      <td>Lethbridge</td>\n",
       "      <td>Canada</td>\n",
       "      <td>972</td>\n",
       "      <td>2005-05-30</td>\n",
       "      <td>2005-06-06</td>\n",
       "      <td>7</td>\n",
       "      <td>1.99</td>\n",
       "      <td>411</td>\n",
       "      <td>NORMAN</td>\n",
       "      <td>CURRIER</td>\n",
       "      <td>NORMAN.CURRIER@sakilacustomer.org</td>\n",
       "      <td>NORMAN CURRIER</td>\n",
       "    </tr>\n",
       "    <tr>\n",
       "      <th>4</th>\n",
       "      <td>ACADEMY DINOSAUR</td>\n",
       "      <td>0.99</td>\n",
       "      <td>20.99</td>\n",
       "      <td>PG</td>\n",
       "      <td>1</td>\n",
       "      <td>Alberta</td>\n",
       "      <td>Lethbridge</td>\n",
       "      <td>Canada</td>\n",
       "      <td>2117</td>\n",
       "      <td>2005-06-17</td>\n",
       "      <td>2005-06-23</td>\n",
       "      <td>6</td>\n",
       "      <td>0.99</td>\n",
       "      <td>170</td>\n",
       "      <td>BEATRICE</td>\n",
       "      <td>ARNOLD</td>\n",
       "      <td>BEATRICE.ARNOLD@sakilacustomer.org</td>\n",
       "      <td>BEATRICE ARNOLD</td>\n",
       "    </tr>\n",
       "  </tbody>\n",
       "</table>\n",
       "</div>"
      ],
      "text/plain": [
       "         Film_Title Film_Rental_Rate Film_Replace_Cost Film_Rating Store_ID  \\\n",
       "0  ACADEMY DINOSAUR             0.99             20.99          PG        1   \n",
       "1  ACADEMY DINOSAUR             0.99             20.99          PG        1   \n",
       "2  ACADEMY DINOSAUR             0.99             20.99          PG        1   \n",
       "3  ACADEMY DINOSAUR             0.99             20.99          PG        1   \n",
       "4  ACADEMY DINOSAUR             0.99             20.99          PG        1   \n",
       "\n",
       "  District        City Country Rental_ID Rental_Date Rental_Return_Date  \\\n",
       "0  Alberta  Lethbridge  Canada      4863  2005-07-08         2005-07-11   \n",
       "1  Alberta  Lethbridge  Canada     11433  2005-08-02         2005-08-11   \n",
       "2  Alberta  Lethbridge  Canada     14714  2005-08-21         2005-08-30   \n",
       "3  Alberta  Lethbridge  Canada       972  2005-05-30         2005-06-06   \n",
       "4  Alberta  Lethbridge  Canada      2117  2005-06-17         2005-06-23   \n",
       "\n",
       "  Rental_Duration Payment_Amount Customer_ID Customer_First_Name  \\\n",
       "0               3           0.99         431                JOEL   \n",
       "1               9           3.99         518             GABRIEL   \n",
       "2               9           3.99         279              DIANNE   \n",
       "3               7           1.99         411              NORMAN   \n",
       "4               6           0.99         170            BEATRICE   \n",
       "\n",
       "  Customer_Last_Name                      Customer_Email Customer_Full_Name  \n",
       "0          FRANCISCO   JOEL.FRANCISCO@sakilacustomer.org     JOEL FRANCISCO  \n",
       "1             HARDER   GABRIEL.HARDER@sakilacustomer.org     GABRIEL HARDER  \n",
       "2            SHELTON   DIANNE.SHELTON@sakilacustomer.org     DIANNE SHELTON  \n",
       "3            CURRIER   NORMAN.CURRIER@sakilacustomer.org     NORMAN CURRIER  \n",
       "4             ARNOLD  BEATRICE.ARNOLD@sakilacustomer.org    BEATRICE ARNOLD  "
      ]
     },
     "execution_count": 6,
     "metadata": {},
     "output_type": "execute_result"
    }
   ],
   "source": [
    "df.head()"
   ]
  },
  {
   "cell_type": "code",
   "execution_count": 7,
   "id": "2ee51995-6299-472e-8148-b9be756fcfd7",
   "metadata": {},
   "outputs": [
    {
     "data": {
      "text/html": [
       "<div>\n",
       "<style scoped>\n",
       "    .dataframe tbody tr th:only-of-type {\n",
       "        vertical-align: middle;\n",
       "    }\n",
       "\n",
       "    .dataframe tbody tr th {\n",
       "        vertical-align: top;\n",
       "    }\n",
       "\n",
       "    .dataframe thead th {\n",
       "        text-align: right;\n",
       "    }\n",
       "</style>\n",
       "<table border=\"1\" class=\"dataframe\">\n",
       "  <thead>\n",
       "    <tr style=\"text-align: right;\">\n",
       "      <th></th>\n",
       "      <th>Film_Title</th>\n",
       "      <th>Film_Rental_Rate</th>\n",
       "      <th>Film_Replace_Cost</th>\n",
       "      <th>Film_Rating</th>\n",
       "      <th>Store_ID</th>\n",
       "      <th>District</th>\n",
       "      <th>City</th>\n",
       "      <th>Country</th>\n",
       "      <th>Rental_ID</th>\n",
       "      <th>Rental_Date</th>\n",
       "      <th>Rental_Return_Date</th>\n",
       "      <th>Rental_Duration</th>\n",
       "      <th>Payment_Amount</th>\n",
       "      <th>Customer_ID</th>\n",
       "      <th>Customer_First_Name</th>\n",
       "      <th>Customer_Last_Name</th>\n",
       "      <th>Customer_Email</th>\n",
       "      <th>Customer_Full_Name</th>\n",
       "    </tr>\n",
       "  </thead>\n",
       "  <tbody>\n",
       "    <tr>\n",
       "      <th>count</th>\n",
       "      <td>16044</td>\n",
       "      <td>16044</td>\n",
       "      <td>16044</td>\n",
       "      <td>16044</td>\n",
       "      <td>16044</td>\n",
       "      <td>16044</td>\n",
       "      <td>16044</td>\n",
       "      <td>16044</td>\n",
       "      <td>16044</td>\n",
       "      <td>16044</td>\n",
       "      <td>15861</td>\n",
       "      <td>15861</td>\n",
       "      <td>16044</td>\n",
       "      <td>16044</td>\n",
       "      <td>16044</td>\n",
       "      <td>16044</td>\n",
       "      <td>16044</td>\n",
       "      <td>16044</td>\n",
       "    </tr>\n",
       "    <tr>\n",
       "      <th>unique</th>\n",
       "      <td>958</td>\n",
       "      <td>3</td>\n",
       "      <td>21</td>\n",
       "      <td>5</td>\n",
       "      <td>2</td>\n",
       "      <td>2</td>\n",
       "      <td>2</td>\n",
       "      <td>2</td>\n",
       "      <td>16044</td>\n",
       "      <td>41</td>\n",
       "      <td>84</td>\n",
       "      <td>11</td>\n",
       "      <td>19</td>\n",
       "      <td>599</td>\n",
       "      <td>591</td>\n",
       "      <td>599</td>\n",
       "      <td>599</td>\n",
       "      <td>599</td>\n",
       "    </tr>\n",
       "    <tr>\n",
       "      <th>top</th>\n",
       "      <td>BUCKET BROTHERHOOD</td>\n",
       "      <td>0.99</td>\n",
       "      <td>22.99</td>\n",
       "      <td>PG-13</td>\n",
       "      <td>2</td>\n",
       "      <td>QLD</td>\n",
       "      <td>Woodridge</td>\n",
       "      <td>Australia</td>\n",
       "      <td>4863</td>\n",
       "      <td>2005-07-31</td>\n",
       "      <td>2005-08-04</td>\n",
       "      <td>7</td>\n",
       "      <td>4.99</td>\n",
       "      <td>148</td>\n",
       "      <td>MARION</td>\n",
       "      <td>HUNT</td>\n",
       "      <td>ELEANOR.HUNT@sakilacustomer.org</td>\n",
       "      <td>ELEANOR HUNT</td>\n",
       "    </tr>\n",
       "    <tr>\n",
       "      <th>freq</th>\n",
       "      <td>34</td>\n",
       "      <td>5652</td>\n",
       "      <td>1044</td>\n",
       "      <td>3585</td>\n",
       "      <td>8121</td>\n",
       "      <td>8121</td>\n",
       "      <td>8121</td>\n",
       "      <td>8121</td>\n",
       "      <td>1</td>\n",
       "      <td>679</td>\n",
       "      <td>534</td>\n",
       "      <td>1821</td>\n",
       "      <td>3789</td>\n",
       "      <td>46</td>\n",
       "      <td>68</td>\n",
       "      <td>46</td>\n",
       "      <td>46</td>\n",
       "      <td>46</td>\n",
       "    </tr>\n",
       "  </tbody>\n",
       "</table>\n",
       "</div>"
      ],
      "text/plain": [
       "                Film_Title Film_Rental_Rate Film_Replace_Cost Film_Rating  \\\n",
       "count                16044            16044             16044       16044   \n",
       "unique                 958                3                21           5   \n",
       "top     BUCKET BROTHERHOOD             0.99             22.99       PG-13   \n",
       "freq                    34             5652              1044        3585   \n",
       "\n",
       "        Store_ID District       City    Country  Rental_ID Rental_Date  \\\n",
       "count      16044    16044      16044      16044      16044       16044   \n",
       "unique         2        2          2          2      16044          41   \n",
       "top            2      QLD  Woodridge  Australia       4863  2005-07-31   \n",
       "freq        8121     8121       8121       8121          1         679   \n",
       "\n",
       "       Rental_Return_Date  Rental_Duration Payment_Amount  Customer_ID  \\\n",
       "count               15861            15861          16044        16044   \n",
       "unique                 84               11             19          599   \n",
       "top            2005-08-04                7           4.99          148   \n",
       "freq                  534             1821           3789           46   \n",
       "\n",
       "       Customer_First_Name Customer_Last_Name  \\\n",
       "count                16044              16044   \n",
       "unique                 591                599   \n",
       "top                 MARION               HUNT   \n",
       "freq                    68                 46   \n",
       "\n",
       "                         Customer_Email Customer_Full_Name  \n",
       "count                             16044              16044  \n",
       "unique                              599                599  \n",
       "top     ELEANOR.HUNT@sakilacustomer.org       ELEANOR HUNT  \n",
       "freq                                 46                 46  "
      ]
     },
     "execution_count": 7,
     "metadata": {},
     "output_type": "execute_result"
    }
   ],
   "source": [
    "df.describe()"
   ]
  },
  {
   "cell_type": "code",
   "execution_count": 8,
   "id": "05392208-ba51-4e39-be39-cceca291d043",
   "metadata": {},
   "outputs": [
    {
     "name": "stdout",
     "output_type": "stream",
     "text": [
      "<class 'pandas.core.frame.DataFrame'>\n",
      "RangeIndex: 16044 entries, 0 to 16043\n",
      "Data columns (total 18 columns):\n",
      " #   Column               Non-Null Count  Dtype \n",
      "---  ------               --------------  ----- \n",
      " 0   Film_Title           16044 non-null  object\n",
      " 1   Film_Rental_Rate     16044 non-null  object\n",
      " 2   Film_Replace_Cost    16044 non-null  object\n",
      " 3   Film_Rating          16044 non-null  object\n",
      " 4   Store_ID             16044 non-null  object\n",
      " 5   District             16044 non-null  object\n",
      " 6   City                 16044 non-null  object\n",
      " 7   Country              16044 non-null  object\n",
      " 8   Rental_ID            16044 non-null  object\n",
      " 9   Rental_Date          16044 non-null  object\n",
      " 10  Rental_Return_Date   15861 non-null  object\n",
      " 11  Rental_Duration      15861 non-null  object\n",
      " 12  Payment_Amount       16044 non-null  object\n",
      " 13  Customer_ID          16044 non-null  object\n",
      " 14  Customer_First_Name  16044 non-null  object\n",
      " 15  Customer_Last_Name   16044 non-null  object\n",
      " 16  Customer_Email       16044 non-null  object\n",
      " 17  Customer_Full_Name   16044 non-null  object\n",
      "dtypes: object(18)\n",
      "memory usage: 2.2+ MB\n"
     ]
    }
   ],
   "source": [
    "df.info()"
   ]
  },
  {
   "cell_type": "markdown",
   "id": "e575018e-8383-4e0c-9bb4-25852eabab48",
   "metadata": {},
   "source": [
    "We can see that Return_Date has 15861 Non-Null values. Let's verify how many Nulls there are."
   ]
  },
  {
   "cell_type": "code",
   "execution_count": 9,
   "id": "dcea1a03-7835-407a-a4b4-214d84fc7e81",
   "metadata": {},
   "outputs": [
    {
     "name": "stdout",
     "output_type": "stream",
     "text": [
      "183\n"
     ]
    }
   ],
   "source": [
    "count=0\n",
    "for i in df['Rental_Return_Date']:\n",
    "    if(i is None):\n",
    "        count+=1\n",
    "print(count)"
   ]
  },
  {
   "cell_type": "code",
   "execution_count": 10,
   "id": "07a5e4c7-9938-4152-8546-9c31bc603bd1",
   "metadata": {},
   "outputs": [
    {
     "data": {
      "text/plain": [
       "16044"
      ]
     },
     "execution_count": 10,
     "metadata": {},
     "output_type": "execute_result"
    }
   ],
   "source": [
    "15861 + count"
   ]
  },
  {
   "cell_type": "markdown",
   "id": "a3a8872b-0161-492e-a7eb-a7b68ab4e17c",
   "metadata": {},
   "source": [
    "So, we have 183 Null values that match with the 16044 when summed with 15861 Non-Null values.\n",
    "\n",
    "This evidence means that 183 times people did not return the movies DVD. "
   ]
  },
  {
   "cell_type": "markdown",
   "id": "cd88df62-3a71-4da5-aa95-cd1dddcede65",
   "metadata": {},
   "source": [
    "# Cleaning the Data"
   ]
  },
  {
   "cell_type": "code",
   "execution_count": 11,
   "id": "eb695e47-d796-48bc-afea-571ea9f87f8b",
   "metadata": {},
   "outputs": [
    {
     "data": {
      "text/html": [
       "<div>\n",
       "<style scoped>\n",
       "    .dataframe tbody tr th:only-of-type {\n",
       "        vertical-align: middle;\n",
       "    }\n",
       "\n",
       "    .dataframe tbody tr th {\n",
       "        vertical-align: top;\n",
       "    }\n",
       "\n",
       "    .dataframe thead th {\n",
       "        text-align: right;\n",
       "    }\n",
       "</style>\n",
       "<table border=\"1\" class=\"dataframe\">\n",
       "  <thead>\n",
       "    <tr style=\"text-align: right;\">\n",
       "      <th></th>\n",
       "      <th>Film_Title</th>\n",
       "      <th>Film_Rental_Rate</th>\n",
       "      <th>Film_Replace_Cost</th>\n",
       "      <th>Film_Rating</th>\n",
       "      <th>Store_ID</th>\n",
       "      <th>District</th>\n",
       "      <th>City</th>\n",
       "      <th>Country</th>\n",
       "      <th>Rental_ID</th>\n",
       "      <th>Rental_Date</th>\n",
       "      <th>Rental_Return_Date</th>\n",
       "      <th>Rental_Duration</th>\n",
       "      <th>Payment_Amount</th>\n",
       "      <th>Customer_ID</th>\n",
       "      <th>Customer_First_Name</th>\n",
       "      <th>Customer_Last_Name</th>\n",
       "      <th>Customer_Email</th>\n",
       "      <th>Customer_Full_Name</th>\n",
       "    </tr>\n",
       "  </thead>\n",
       "  <tbody>\n",
       "  </tbody>\n",
       "</table>\n",
       "</div>"
      ],
      "text/plain": [
       "Empty DataFrame\n",
       "Columns: [Film_Title, Film_Rental_Rate, Film_Replace_Cost, Film_Rating, Store_ID, District, City, Country, Rental_ID, Rental_Date, Rental_Return_Date, Rental_Duration, Payment_Amount, Customer_ID, Customer_First_Name, Customer_Last_Name, Customer_Email, Customer_Full_Name]\n",
       "Index: []"
      ]
     },
     "execution_count": 11,
     "metadata": {},
     "output_type": "execute_result"
    }
   ],
   "source": [
    "# Check duplicates\n",
    "df[df.duplicated() == True]"
   ]
  },
  {
   "cell_type": "code",
   "execution_count": 12,
   "id": "c41b8d6d-83fd-4030-97e5-997fcf0c7ccc",
   "metadata": {},
   "outputs": [
    {
     "data": {
      "text/plain": [
       "Film_Title             False\n",
       "Film_Rental_Rate       False\n",
       "Film_Replace_Cost      False\n",
       "Film_Rating            False\n",
       "Store_ID               False\n",
       "District               False\n",
       "City                   False\n",
       "Country                False\n",
       "Rental_ID              False\n",
       "Rental_Date            False\n",
       "Rental_Return_Date      True\n",
       "Rental_Duration         True\n",
       "Payment_Amount         False\n",
       "Customer_ID            False\n",
       "Customer_First_Name    False\n",
       "Customer_Last_Name     False\n",
       "Customer_Email         False\n",
       "Customer_Full_Name     False\n",
       "dtype: bool"
      ]
     },
     "execution_count": 12,
     "metadata": {},
     "output_type": "execute_result"
    }
   ],
   "source": [
    "# Check null-values\n",
    "df.isnull().any()"
   ]
  },
  {
   "cell_type": "code",
   "execution_count": 13,
   "id": "881ac571-b5e3-45f3-8abd-e64ec05d182e",
   "metadata": {},
   "outputs": [
    {
     "data": {
      "text/html": [
       "<div>\n",
       "<style scoped>\n",
       "    .dataframe tbody tr th:only-of-type {\n",
       "        vertical-align: middle;\n",
       "    }\n",
       "\n",
       "    .dataframe tbody tr th {\n",
       "        vertical-align: top;\n",
       "    }\n",
       "\n",
       "    .dataframe thead th {\n",
       "        text-align: right;\n",
       "    }\n",
       "</style>\n",
       "<table border=\"1\" class=\"dataframe\">\n",
       "  <thead>\n",
       "    <tr style=\"text-align: right;\">\n",
       "      <th></th>\n",
       "      <th>Film_Title</th>\n",
       "      <th>Film_Rental_Rate</th>\n",
       "      <th>Film_Replace_Cost</th>\n",
       "      <th>Film_Rating</th>\n",
       "      <th>Store_ID</th>\n",
       "      <th>District</th>\n",
       "      <th>City</th>\n",
       "      <th>Country</th>\n",
       "      <th>Rental_ID</th>\n",
       "      <th>Rental_Date</th>\n",
       "      <th>Rental_Return_Date</th>\n",
       "      <th>Rental_Duration</th>\n",
       "      <th>Payment_Amount</th>\n",
       "      <th>Customer_ID</th>\n",
       "      <th>Customer_First_Name</th>\n",
       "      <th>Customer_Last_Name</th>\n",
       "      <th>Customer_Email</th>\n",
       "      <th>Customer_Full_Name</th>\n",
       "    </tr>\n",
       "  </thead>\n",
       "  <tbody>\n",
       "    <tr>\n",
       "      <th>102</th>\n",
       "      <td>ALONE TRIP</td>\n",
       "      <td>0.99</td>\n",
       "      <td>14.99</td>\n",
       "      <td>R</td>\n",
       "      <td>1</td>\n",
       "      <td>Alberta</td>\n",
       "      <td>Lethbridge</td>\n",
       "      <td>Canada</td>\n",
       "      <td>12988</td>\n",
       "      <td>2006-02-14</td>\n",
       "      <td>None</td>\n",
       "      <td>None</td>\n",
       "      <td>0.99</td>\n",
       "      <td>236</td>\n",
       "      <td>MARCIA</td>\n",
       "      <td>DEAN</td>\n",
       "      <td>MARCIA.DEAN@sakilacustomer.org</td>\n",
       "      <td>MARCIA DEAN</td>\n",
       "    </tr>\n",
       "    <tr>\n",
       "      <th>372</th>\n",
       "      <td>BAKED CLEOPATRA</td>\n",
       "      <td>2.99</td>\n",
       "      <td>20.99</td>\n",
       "      <td>G</td>\n",
       "      <td>1</td>\n",
       "      <td>Alberta</td>\n",
       "      <td>Lethbridge</td>\n",
       "      <td>Canada</td>\n",
       "      <td>13952</td>\n",
       "      <td>2006-02-14</td>\n",
       "      <td>None</td>\n",
       "      <td>None</td>\n",
       "      <td>2.99</td>\n",
       "      <td>199</td>\n",
       "      <td>BETH</td>\n",
       "      <td>FRANKLIN</td>\n",
       "      <td>BETH.FRANKLIN@sakilacustomer.org</td>\n",
       "      <td>BETH FRANKLIN</td>\n",
       "    </tr>\n",
       "    <tr>\n",
       "      <th>388</th>\n",
       "      <td>BANG KWAI</td>\n",
       "      <td>2.99</td>\n",
       "      <td>25.99</td>\n",
       "      <td>NC-17</td>\n",
       "      <td>1</td>\n",
       "      <td>Alberta</td>\n",
       "      <td>Lethbridge</td>\n",
       "      <td>Canada</td>\n",
       "      <td>14374</td>\n",
       "      <td>2006-02-14</td>\n",
       "      <td>None</td>\n",
       "      <td>None</td>\n",
       "      <td>2.99</td>\n",
       "      <td>213</td>\n",
       "      <td>GINA</td>\n",
       "      <td>WILLIAMSON</td>\n",
       "      <td>GINA.WILLIAMSON@sakilacustomer.org</td>\n",
       "      <td>GINA WILLIAMSON</td>\n",
       "    </tr>\n",
       "    <tr>\n",
       "      <th>605</th>\n",
       "      <td>BLANKET BEVERLY</td>\n",
       "      <td>2.99</td>\n",
       "      <td>21.99</td>\n",
       "      <td>G</td>\n",
       "      <td>1</td>\n",
       "      <td>Alberta</td>\n",
       "      <td>Lethbridge</td>\n",
       "      <td>Canada</td>\n",
       "      <td>13182</td>\n",
       "      <td>2006-02-14</td>\n",
       "      <td>None</td>\n",
       "      <td>None</td>\n",
       "      <td>2.99</td>\n",
       "      <td>496</td>\n",
       "      <td>TYLER</td>\n",
       "      <td>WREN</td>\n",
       "      <td>TYLER.WREN@sakilacustomer.org</td>\n",
       "      <td>TYLER WREN</td>\n",
       "    </tr>\n",
       "    <tr>\n",
       "      <th>671</th>\n",
       "      <td>BOOGIE AMELIE</td>\n",
       "      <td>4.99</td>\n",
       "      <td>11.99</td>\n",
       "      <td>R</td>\n",
       "      <td>1</td>\n",
       "      <td>Alberta</td>\n",
       "      <td>Lethbridge</td>\n",
       "      <td>Canada</td>\n",
       "      <td>12489</td>\n",
       "      <td>2006-02-14</td>\n",
       "      <td>None</td>\n",
       "      <td>None</td>\n",
       "      <td>9.98</td>\n",
       "      <td>60</td>\n",
       "      <td>MILDRED</td>\n",
       "      <td>BAILEY</td>\n",
       "      <td>MILDRED.BAILEY@sakilacustomer.org</td>\n",
       "      <td>MILDRED BAILEY</td>\n",
       "    </tr>\n",
       "    <tr>\n",
       "      <th>...</th>\n",
       "      <td>...</td>\n",
       "      <td>...</td>\n",
       "      <td>...</td>\n",
       "      <td>...</td>\n",
       "      <td>...</td>\n",
       "      <td>...</td>\n",
       "      <td>...</td>\n",
       "      <td>...</td>\n",
       "      <td>...</td>\n",
       "      <td>...</td>\n",
       "      <td>...</td>\n",
       "      <td>...</td>\n",
       "      <td>...</td>\n",
       "      <td>...</td>\n",
       "      <td>...</td>\n",
       "      <td>...</td>\n",
       "      <td>...</td>\n",
       "      <td>...</td>\n",
       "    </tr>\n",
       "    <tr>\n",
       "      <th>15587</th>\n",
       "      <td>VANISHING ROCKY</td>\n",
       "      <td>2.99</td>\n",
       "      <td>21.99</td>\n",
       "      <td>NC-17</td>\n",
       "      <td>2</td>\n",
       "      <td>QLD</td>\n",
       "      <td>Woodridge</td>\n",
       "      <td>Australia</td>\n",
       "      <td>14531</td>\n",
       "      <td>2006-02-14</td>\n",
       "      <td>None</td>\n",
       "      <td>None</td>\n",
       "      <td>2.99</td>\n",
       "      <td>568</td>\n",
       "      <td>ALBERTO</td>\n",
       "      <td>HENNING</td>\n",
       "      <td>ALBERTO.HENNING@sakilacustomer.org</td>\n",
       "      <td>ALBERTO HENNING</td>\n",
       "    </tr>\n",
       "    <tr>\n",
       "      <th>15595</th>\n",
       "      <td>VARSITY TRIP</td>\n",
       "      <td>2.99</td>\n",
       "      <td>14.99</td>\n",
       "      <td>NC-17</td>\n",
       "      <td>2</td>\n",
       "      <td>QLD</td>\n",
       "      <td>Woodridge</td>\n",
       "      <td>Australia</td>\n",
       "      <td>13578</td>\n",
       "      <td>2006-02-14</td>\n",
       "      <td>None</td>\n",
       "      <td>None</td>\n",
       "      <td>2.99</td>\n",
       "      <td>352</td>\n",
       "      <td>ALBERT</td>\n",
       "      <td>CROUSE</td>\n",
       "      <td>ALBERT.CROUSE@sakilacustomer.org</td>\n",
       "      <td>ALBERT CROUSE</td>\n",
       "    </tr>\n",
       "    <tr>\n",
       "      <th>15874</th>\n",
       "      <td>WINDOW SIDE</td>\n",
       "      <td>2.99</td>\n",
       "      <td>25.99</td>\n",
       "      <td>R</td>\n",
       "      <td>2</td>\n",
       "      <td>QLD</td>\n",
       "      <td>Woodridge</td>\n",
       "      <td>Australia</td>\n",
       "      <td>15966</td>\n",
       "      <td>2006-02-14</td>\n",
       "      <td>None</td>\n",
       "      <td>None</td>\n",
       "      <td>2.99</td>\n",
       "      <td>374</td>\n",
       "      <td>JEREMY</td>\n",
       "      <td>HURTADO</td>\n",
       "      <td>JEREMY.HURTADO@sakilacustomer.org</td>\n",
       "      <td>JEREMY HURTADO</td>\n",
       "    </tr>\n",
       "    <tr>\n",
       "      <th>15971</th>\n",
       "      <td>WORLD LEATHERNECKS</td>\n",
       "      <td>0.99</td>\n",
       "      <td>13.99</td>\n",
       "      <td>PG-13</td>\n",
       "      <td>2</td>\n",
       "      <td>QLD</td>\n",
       "      <td>Woodridge</td>\n",
       "      <td>Australia</td>\n",
       "      <td>14616</td>\n",
       "      <td>2006-02-14</td>\n",
       "      <td>None</td>\n",
       "      <td>None</td>\n",
       "      <td>0.99</td>\n",
       "      <td>532</td>\n",
       "      <td>NEIL</td>\n",
       "      <td>RENNER</td>\n",
       "      <td>NEIL.RENNER@sakilacustomer.org</td>\n",
       "      <td>NEIL RENNER</td>\n",
       "    </tr>\n",
       "    <tr>\n",
       "      <th>16017</th>\n",
       "      <td>ZHIVAGO CORE</td>\n",
       "      <td>0.99</td>\n",
       "      <td>10.99</td>\n",
       "      <td>NC-17</td>\n",
       "      <td>2</td>\n",
       "      <td>QLD</td>\n",
       "      <td>Woodridge</td>\n",
       "      <td>Australia</td>\n",
       "      <td>11739</td>\n",
       "      <td>2006-02-14</td>\n",
       "      <td>None</td>\n",
       "      <td>None</td>\n",
       "      <td>0.99</td>\n",
       "      <td>373</td>\n",
       "      <td>LOUIS</td>\n",
       "      <td>LEONE</td>\n",
       "      <td>LOUIS.LEONE@sakilacustomer.org</td>\n",
       "      <td>LOUIS LEONE</td>\n",
       "    </tr>\n",
       "  </tbody>\n",
       "</table>\n",
       "<p>183 rows × 18 columns</p>\n",
       "</div>"
      ],
      "text/plain": [
       "               Film_Title Film_Rental_Rate Film_Replace_Cost Film_Rating  \\\n",
       "102            ALONE TRIP             0.99             14.99           R   \n",
       "372       BAKED CLEOPATRA             2.99             20.99           G   \n",
       "388             BANG KWAI             2.99             25.99       NC-17   \n",
       "605       BLANKET BEVERLY             2.99             21.99           G   \n",
       "671         BOOGIE AMELIE             4.99             11.99           R   \n",
       "...                   ...              ...               ...         ...   \n",
       "15587     VANISHING ROCKY             2.99             21.99       NC-17   \n",
       "15595        VARSITY TRIP             2.99             14.99       NC-17   \n",
       "15874         WINDOW SIDE             2.99             25.99           R   \n",
       "15971  WORLD LEATHERNECKS             0.99             13.99       PG-13   \n",
       "16017        ZHIVAGO CORE             0.99             10.99       NC-17   \n",
       "\n",
       "      Store_ID District        City    Country Rental_ID Rental_Date  \\\n",
       "102          1  Alberta  Lethbridge     Canada     12988  2006-02-14   \n",
       "372          1  Alberta  Lethbridge     Canada     13952  2006-02-14   \n",
       "388          1  Alberta  Lethbridge     Canada     14374  2006-02-14   \n",
       "605          1  Alberta  Lethbridge     Canada     13182  2006-02-14   \n",
       "671          1  Alberta  Lethbridge     Canada     12489  2006-02-14   \n",
       "...        ...      ...         ...        ...       ...         ...   \n",
       "15587        2      QLD   Woodridge  Australia     14531  2006-02-14   \n",
       "15595        2      QLD   Woodridge  Australia     13578  2006-02-14   \n",
       "15874        2      QLD   Woodridge  Australia     15966  2006-02-14   \n",
       "15971        2      QLD   Woodridge  Australia     14616  2006-02-14   \n",
       "16017        2      QLD   Woodridge  Australia     11739  2006-02-14   \n",
       "\n",
       "      Rental_Return_Date Rental_Duration Payment_Amount Customer_ID  \\\n",
       "102                 None            None           0.99         236   \n",
       "372                 None            None           2.99         199   \n",
       "388                 None            None           2.99         213   \n",
       "605                 None            None           2.99         496   \n",
       "671                 None            None           9.98          60   \n",
       "...                  ...             ...            ...         ...   \n",
       "15587               None            None           2.99         568   \n",
       "15595               None            None           2.99         352   \n",
       "15874               None            None           2.99         374   \n",
       "15971               None            None           0.99         532   \n",
       "16017               None            None           0.99         373   \n",
       "\n",
       "      Customer_First_Name Customer_Last_Name  \\\n",
       "102                MARCIA               DEAN   \n",
       "372                  BETH           FRANKLIN   \n",
       "388                  GINA         WILLIAMSON   \n",
       "605                 TYLER               WREN   \n",
       "671               MILDRED             BAILEY   \n",
       "...                   ...                ...   \n",
       "15587             ALBERTO            HENNING   \n",
       "15595              ALBERT             CROUSE   \n",
       "15874              JEREMY            HURTADO   \n",
       "15971                NEIL             RENNER   \n",
       "16017               LOUIS              LEONE   \n",
       "\n",
       "                           Customer_Email Customer_Full_Name  \n",
       "102        MARCIA.DEAN@sakilacustomer.org        MARCIA DEAN  \n",
       "372      BETH.FRANKLIN@sakilacustomer.org      BETH FRANKLIN  \n",
       "388    GINA.WILLIAMSON@sakilacustomer.org    GINA WILLIAMSON  \n",
       "605         TYLER.WREN@sakilacustomer.org         TYLER WREN  \n",
       "671     MILDRED.BAILEY@sakilacustomer.org     MILDRED BAILEY  \n",
       "...                                   ...                ...  \n",
       "15587  ALBERTO.HENNING@sakilacustomer.org    ALBERTO HENNING  \n",
       "15595    ALBERT.CROUSE@sakilacustomer.org      ALBERT CROUSE  \n",
       "15874   JEREMY.HURTADO@sakilacustomer.org     JEREMY HURTADO  \n",
       "15971      NEIL.RENNER@sakilacustomer.org        NEIL RENNER  \n",
       "16017      LOUIS.LEONE@sakilacustomer.org        LOUIS LEONE  \n",
       "\n",
       "[183 rows x 18 columns]"
      ]
     },
     "execution_count": 13,
     "metadata": {},
     "output_type": "execute_result"
    }
   ],
   "source": [
    "# Check null-values\n",
    "df[df.isnull().any(axis=1)]"
   ]
  },
  {
   "cell_type": "code",
   "execution_count": 14,
   "id": "7241af3e-85ef-437e-a935-cfb5db698a7b",
   "metadata": {},
   "outputs": [],
   "source": [
    "# Remove nulls\n",
    "df_no_nulls = df.dropna()\n",
    "\n",
    "# This will not be performed because this information can be used to calculate the Replace Cost for the movies that weren't returned\n",
    "# Instead it's saved on a df that will no be used moving foward"
   ]
  },
  {
   "cell_type": "markdown",
   "id": "5ee89212-941c-4995-a430-c51df8f2e75a",
   "metadata": {},
   "source": [
    "# Analyzing Numerical Fields\n",
    "\n",
    "Let's analyze the data types of each field"
   ]
  },
  {
   "cell_type": "code",
   "execution_count": 15,
   "id": "bfea72ae-a80b-473e-891d-79f3b69b2526",
   "metadata": {},
   "outputs": [
    {
     "data": {
      "text/plain": [
       "dtype('O')"
      ]
     },
     "execution_count": 15,
     "metadata": {},
     "output_type": "execute_result"
    }
   ],
   "source": [
    "df['Payment_Amount'].dtype"
   ]
  },
  {
   "cell_type": "markdown",
   "id": "59f1820f-6d19-4b21-87ea-53d2a20c07ae",
   "metadata": {},
   "source": [
    "Pandas freely uses object dtype when columns contain mixed values (strings, numbers, nan).\n",
    "\n",
    "So we have to give each column its proper data type."
   ]
  },
  {
   "cell_type": "code",
   "execution_count": 16,
   "id": "702857a2-4d7d-41fa-9a67-a5a2fb396a77",
   "metadata": {},
   "outputs": [],
   "source": [
    "df['Store_ID']            = pd.to_numeric(df['Store_ID'])\n",
    "df['Film_Rental_Rate']    = pd.to_numeric(df['Film_Rental_Rate'])\n",
    "df['Film_Replace_Cost']   = pd.to_numeric(df['Film_Replace_Cost'])\n",
    "df['Rental_ID']           = pd.to_numeric(df['Rental_ID'])\n",
    "df['Rental_Duration']     = pd.to_numeric(df['Rental_Duration'])\n",
    "df['Payment_Amount']      = pd.to_numeric(df['Payment_Amount'])\n",
    "df['Customer_ID']         = pd.to_numeric(df['Customer_ID'])"
   ]
  },
  {
   "cell_type": "code",
   "execution_count": 17,
   "id": "0db325db-5172-4d3f-90b1-0e03c83a7802",
   "metadata": {},
   "outputs": [
    {
     "data": {
      "text/html": [
       "<div>\n",
       "<style scoped>\n",
       "    .dataframe tbody tr th:only-of-type {\n",
       "        vertical-align: middle;\n",
       "    }\n",
       "\n",
       "    .dataframe tbody tr th {\n",
       "        vertical-align: top;\n",
       "    }\n",
       "\n",
       "    .dataframe thead th {\n",
       "        text-align: right;\n",
       "    }\n",
       "</style>\n",
       "<table border=\"1\" class=\"dataframe\">\n",
       "  <thead>\n",
       "    <tr style=\"text-align: right;\">\n",
       "      <th></th>\n",
       "      <th>Film_Rental_Rate</th>\n",
       "      <th>Film_Replace_Cost</th>\n",
       "      <th>Store_ID</th>\n",
       "      <th>Rental_ID</th>\n",
       "      <th>Rental_Duration</th>\n",
       "      <th>Payment_Amount</th>\n",
       "      <th>Customer_ID</th>\n",
       "    </tr>\n",
       "  </thead>\n",
       "  <tbody>\n",
       "    <tr>\n",
       "      <th>count</th>\n",
       "      <td>16044.000000</td>\n",
       "      <td>16044.000000</td>\n",
       "      <td>16044.000000</td>\n",
       "      <td>16044.000000</td>\n",
       "      <td>15861.000000</td>\n",
       "      <td>16044.000000</td>\n",
       "      <td>16044.000000</td>\n",
       "    </tr>\n",
       "    <tr>\n",
       "      <th>mean</th>\n",
       "      <td>2.942630</td>\n",
       "      <td>20.215443</td>\n",
       "      <td>1.506171</td>\n",
       "      <td>8025.371478</td>\n",
       "      <td>5.025219</td>\n",
       "      <td>4.201356</td>\n",
       "      <td>297.143169</td>\n",
       "    </tr>\n",
       "    <tr>\n",
       "      <th>std</th>\n",
       "      <td>1.649678</td>\n",
       "      <td>6.081771</td>\n",
       "      <td>0.499978</td>\n",
       "      <td>4632.777249</td>\n",
       "      <td>2.611835</td>\n",
       "      <td>2.362961</td>\n",
       "      <td>172.453136</td>\n",
       "    </tr>\n",
       "    <tr>\n",
       "      <th>min</th>\n",
       "      <td>0.990000</td>\n",
       "      <td>9.990000</td>\n",
       "      <td>1.000000</td>\n",
       "      <td>1.000000</td>\n",
       "      <td>0.000000</td>\n",
       "      <td>0.000000</td>\n",
       "      <td>1.000000</td>\n",
       "    </tr>\n",
       "    <tr>\n",
       "      <th>25%</th>\n",
       "      <td>0.990000</td>\n",
       "      <td>14.990000</td>\n",
       "      <td>1.000000</td>\n",
       "      <td>4013.750000</td>\n",
       "      <td>3.000000</td>\n",
       "      <td>2.990000</td>\n",
       "      <td>148.000000</td>\n",
       "    </tr>\n",
       "    <tr>\n",
       "      <th>50%</th>\n",
       "      <td>2.990000</td>\n",
       "      <td>20.990000</td>\n",
       "      <td>2.000000</td>\n",
       "      <td>8025.500000</td>\n",
       "      <td>5.000000</td>\n",
       "      <td>3.990000</td>\n",
       "      <td>296.000000</td>\n",
       "    </tr>\n",
       "    <tr>\n",
       "      <th>75%</th>\n",
       "      <td>4.990000</td>\n",
       "      <td>25.990000</td>\n",
       "      <td>2.000000</td>\n",
       "      <td>12037.250000</td>\n",
       "      <td>7.000000</td>\n",
       "      <td>4.990000</td>\n",
       "      <td>446.000000</td>\n",
       "    </tr>\n",
       "    <tr>\n",
       "      <th>max</th>\n",
       "      <td>4.990000</td>\n",
       "      <td>29.990000</td>\n",
       "      <td>2.000000</td>\n",
       "      <td>16049.000000</td>\n",
       "      <td>10.000000</td>\n",
       "      <td>11.990000</td>\n",
       "      <td>599.000000</td>\n",
       "    </tr>\n",
       "  </tbody>\n",
       "</table>\n",
       "</div>"
      ],
      "text/plain": [
       "       Film_Rental_Rate  Film_Replace_Cost      Store_ID     Rental_ID  \\\n",
       "count      16044.000000       16044.000000  16044.000000  16044.000000   \n",
       "mean           2.942630          20.215443      1.506171   8025.371478   \n",
       "std            1.649678           6.081771      0.499978   4632.777249   \n",
       "min            0.990000           9.990000      1.000000      1.000000   \n",
       "25%            0.990000          14.990000      1.000000   4013.750000   \n",
       "50%            2.990000          20.990000      2.000000   8025.500000   \n",
       "75%            4.990000          25.990000      2.000000  12037.250000   \n",
       "max            4.990000          29.990000      2.000000  16049.000000   \n",
       "\n",
       "       Rental_Duration  Payment_Amount   Customer_ID  \n",
       "count     15861.000000    16044.000000  16044.000000  \n",
       "mean          5.025219        4.201356    297.143169  \n",
       "std           2.611835        2.362961    172.453136  \n",
       "min           0.000000        0.000000      1.000000  \n",
       "25%           3.000000        2.990000    148.000000  \n",
       "50%           5.000000        3.990000    296.000000  \n",
       "75%           7.000000        4.990000    446.000000  \n",
       "max          10.000000       11.990000    599.000000  "
      ]
     },
     "execution_count": 17,
     "metadata": {},
     "output_type": "execute_result"
    }
   ],
   "source": [
    "df.describe()"
   ]
  },
  {
   "cell_type": "markdown",
   "id": "a4ca08a2-5095-4b46-9af0-cda148d1bcce",
   "metadata": {},
   "source": [
    "- The maximun payed amount was 11.99\n",
    "- The average payed amount is 4.20\n",
    "- The maximum rental duration was 10 days\n",
    "- The average rental duration is 5 days\n",
    "- The replacement cost for all the movies in between 29.99 and 9.99\n",
    "- The average replacement cost is 20.22"
   ]
  },
  {
   "cell_type": "code",
   "execution_count": 18,
   "id": "1d6e733d-9371-4e65-b3e6-2f63a94277a5",
   "metadata": {},
   "outputs": [
    {
     "data": {
      "text/plain": [
       "<Axes: title={'center': 'Boxplot of Rental Duration (Days)'}>"
      ]
     },
     "execution_count": 18,
     "metadata": {},
     "output_type": "execute_result"
    },
    {
     "data": {
      "image/png": "[encoded data removed]",
      "text/plain": [
       "<Figure size 640x480 with 1 Axes>"
      ]
     },
     "metadata": {},
     "output_type": "display_data"
    }
   ],
   "source": [
    "# Simple Boxplot graph\n",
    "df['Rental_Duration'].plot(kind   = 'box',\n",
    "                           title  = 'Boxplot of Rental Duration (Days)')"
   ]
  },
  {
   "cell_type": "code",
   "execution_count": 19,
   "id": "2335ae1b-dbcb-4762-9382-e0355d05cf91",
   "metadata": {},
   "outputs": [
    {
     "data": {
      "image/png": "[encoded data removed]",
      "text/plain": [
       "<Figure size 1500x600 with 1 Axes>"
      ]
     },
     "metadata": {},
     "output_type": "display_data"
    }
   ],
   "source": [
    "# Set figure dimensions\n",
    "plt.figure(figsize=(15, 6))\n",
    "\n",
    "# Calculate the bin edges\n",
    "min_value = np.round(df['Film_Replace_Cost'].min())\n",
    "max_value = np.round(df['Film_Replace_Cost'].max())\n",
    "bin_width = 1  \n",
    "bin_edges = np.arange(min_value - bin_width, \n",
    "                      max_value + bin_width, \n",
    "                      bin_width)\n",
    "\n",
    "# Plot histogram with actual counts and specified bin edges\n",
    "plt.hist(df['Film_Replace_Cost'], \n",
    "         bins      = bin_edges, \n",
    "         align     = 'right', \n",
    "         width     = 0.50, \n",
    "         edgecolor = 'black')\n",
    "\n",
    "# Set x-axis ticks to specific values\n",
    "plt.xticks(bin_edges)\n",
    "\n",
    "# Set labels and title\n",
    "plt.xlabel('Price')\n",
    "plt.ylabel('Frequency')\n",
    "plt.title('Histogram of Film Replacement Costs')\n",
    "\n",
    "# Show plot\n",
    "plt.show()"
   ]
  },
  {
   "cell_type": "markdown",
   "id": "a6a517d0-99dd-4c6e-90dd-4b9b03fbed8d",
   "metadata": {},
   "source": [
    "# Analizing Categorical Fields\n"
   ]
  },
  {
   "cell_type": "code",
   "execution_count": 20,
   "id": "71bba94d-dfd9-4daa-9ca6-057282ff7ec6",
   "metadata": {},
   "outputs": [
    {
     "data": {
      "image/png": "[encoded data removed]",
      "text/plain": [
       "<Figure size 700x700 with 1 Axes>"
      ]
     },
     "metadata": {},
     "output_type": "display_data"
    }
   ],
   "source": [
    "plt.figure(figsize = (7,7))\n",
    "\n",
    "plt.pie(df['Country'].value_counts(),\n",
    "        colors        = ['navy','red'],\n",
    "        autopct       = lambda p: '{:.1f}%, {:.0f} Rentals'.format(p, p * sum(df['Country'].value_counts()) / 100),\n",
    "        pctdistance   = 0.50,\n",
    "        textprops     = {'color': 'white',\n",
    "                         'fontweight': 'bold'},\n",
    "        labels        = ['Australia', 'Canada'],\n",
    "        labeldistance = 0.75,\n",
    "       )\n",
    "\n",
    "plt.title('Rentals by Country')\n",
    "\n",
    "plt.show()"
   ]
  },
  {
   "cell_type": "code",
   "execution_count": 21,
   "id": "8c159214-0b2f-471b-b737-88f614bd7b0f",
   "metadata": {},
   "outputs": [
    {
     "data": {
      "text/plain": [
       "<Axes: title={'center': 'Number of Films by Rating'}, xlabel='Number of Films', ylabel='Film Rating'>"
      ]
     },
     "execution_count": 21,
     "metadata": {},
     "output_type": "execute_result"
    },
    {
     "data": {
      "image/png": "[encoded data removed]",
      "text/plain": [
       "<Figure size 640x480 with 1 Axes>"
      ]
     },
     "metadata": {},
     "output_type": "display_data"
    }
   ],
   "source": [
    "df['Film_Rating'].value_counts().plot(kind   = 'barh',                                      \n",
    "                                      title  = 'Number of Films by Rating',\n",
    "                                      xlabel = 'Number of Films',\n",
    "                                      ylabel = 'Film Rating',\n",
    "                                      rot    = 0\n",
    "                                      )"
   ]
  },
  {
   "cell_type": "code",
   "execution_count": 22,
   "id": "59a72eb9-30b6-4ad2-8aa2-8915b3fab59a",
   "metadata": {},
   "outputs": [
    {
     "data": {
      "text/plain": [
       "<Axes: title={'center': 'Number of Rentals by Price'}, xlabel='Rental Rates', ylabel='Number of Films'>"
      ]
     },
     "execution_count": 22,
     "metadata": {},
     "output_type": "execute_result"
    },
    {
     "data": {
      "image/png": "[encoded data removed]",
      "text/plain": [
       "<Figure size 640x480 with 1 Axes>"
      ]
     },
     "metadata": {},
     "output_type": "display_data"
    }
   ],
   "source": [
    "df['Film_Rental_Rate'].value_counts().sort_index().plot(kind  = 'bar',\n",
    "                                                       title  = 'Number of Rentals by Price',\n",
    "                                                       ylabel = 'Number of Films',\n",
    "                                                       xlabel = 'Rental Rates',\n",
    "                                                       rot    = 0\n",
    "                                                       )"
   ]
  },
  {
   "cell_type": "markdown",
   "id": "2af6bb82-5fa7-47be-8e80-ff7dd063b90a",
   "metadata": {},
   "source": [
    "# Objetive 1 - Identify the most active Customers based on Rentals"
   ]
  },
  {
   "cell_type": "code",
   "execution_count": 23,
   "id": "66df1ee9-89e3-46ff-91bf-888e6839bd3d",
   "metadata": {},
   "outputs": [
    {
     "data": {
      "text/html": [
       "<div>\n",
       "<style scoped>\n",
       "    .dataframe tbody tr th:only-of-type {\n",
       "        vertical-align: middle;\n",
       "    }\n",
       "\n",
       "    .dataframe tbody tr th {\n",
       "        vertical-align: top;\n",
       "    }\n",
       "\n",
       "    .dataframe thead th {\n",
       "        text-align: right;\n",
       "    }\n",
       "</style>\n",
       "<table border=\"1\" class=\"dataframe\">\n",
       "  <thead>\n",
       "    <tr style=\"text-align: right;\">\n",
       "      <th></th>\n",
       "      <th>Rental Counts</th>\n",
       "    </tr>\n",
       "    <tr>\n",
       "      <th>Customer Full Name</th>\n",
       "      <th></th>\n",
       "    </tr>\n",
       "  </thead>\n",
       "  <tbody>\n",
       "    <tr>\n",
       "      <th>ELEANOR HUNT</th>\n",
       "      <td>46</td>\n",
       "    </tr>\n",
       "    <tr>\n",
       "      <th>KARL SEAL</th>\n",
       "      <td>45</td>\n",
       "    </tr>\n",
       "    <tr>\n",
       "      <th>MARCIA DEAN</th>\n",
       "      <td>42</td>\n",
       "    </tr>\n",
       "    <tr>\n",
       "      <th>CLARA SHAW</th>\n",
       "      <td>42</td>\n",
       "    </tr>\n",
       "    <tr>\n",
       "      <th>TAMMY SANDERS</th>\n",
       "      <td>41</td>\n",
       "    </tr>\n",
       "    <tr>\n",
       "      <th>SUE PETERS</th>\n",
       "      <td>40</td>\n",
       "    </tr>\n",
       "    <tr>\n",
       "      <th>WESLEY BULL</th>\n",
       "      <td>40</td>\n",
       "    </tr>\n",
       "    <tr>\n",
       "      <th>RHONDA KENNEDY</th>\n",
       "      <td>39</td>\n",
       "    </tr>\n",
       "    <tr>\n",
       "      <th>TIM CARY</th>\n",
       "      <td>39</td>\n",
       "    </tr>\n",
       "    <tr>\n",
       "      <th>MARION SNYDER</th>\n",
       "      <td>39</td>\n",
       "    </tr>\n",
       "  </tbody>\n",
       "</table>\n",
       "</div>"
      ],
      "text/plain": [
       "                    Rental Counts\n",
       "Customer Full Name               \n",
       "ELEANOR HUNT                   46\n",
       "KARL SEAL                      45\n",
       "MARCIA DEAN                    42\n",
       "CLARA SHAW                     42\n",
       "TAMMY SANDERS                  41\n",
       "SUE PETERS                     40\n",
       "WESLEY BULL                    40\n",
       "RHONDA KENNEDY                 39\n",
       "TIM CARY                       39\n",
       "MARION SNYDER                  39"
      ]
     },
     "execution_count": 23,
     "metadata": {},
     "output_type": "execute_result"
    }
   ],
   "source": [
    "Top = 10\n",
    "\n",
    "Data = {'Customer Full Name': df['Customer_Full_Name'].value_counts().head(Top).index,\n",
    "        'Rental Counts':      df['Customer_Full_Name'].value_counts().head(Top).values}\n",
    "\n",
    "TopCustomersDP = pd.DataFrame(Data)\n",
    "TopCustomersDP.set_index('Customer Full Name', inplace = True)\n",
    "TopCustomersDP\n"
   ]
  },
  {
   "cell_type": "code",
   "execution_count": 24,
   "id": "e442a8fb-4e58-4347-a52e-b77445d0eaed",
   "metadata": {},
   "outputs": [
    {
     "data": {
      "text/plain": [
       "<Axes: ylabel='Customer Full Name'>"
      ]
     },
     "execution_count": 24,
     "metadata": {},
     "output_type": "execute_result"
    },
    {
     "data": {
      "image/png": "[encoded data removed]",
      "text/plain": [
       "<Figure size 640x480 with 1 Axes>"
      ]
     },
     "metadata": {},
     "output_type": "display_data"
    }
   ],
   "source": [
    "TopCustomersDP.plot.barh(xlim   = (30,50),\n",
    "                         xticks = range(30,51,2))"
   ]
  },
  {
   "cell_type": "markdown",
   "id": "9b046d8f-7fe3-4e9f-87a7-78c4b67f4b40",
   "metadata": {},
   "source": [
    "# Objetive 2 - Identify which Country has more sales"
   ]
  },
  {
   "cell_type": "code",
   "execution_count": 25,
   "id": "b08998c9-946f-40c9-8a6f-78db24047918",
   "metadata": {},
   "outputs": [
    {
     "data": {
      "image/png": "[encoded data removed]",
      "text/plain": [
       "<Figure size 640x480 with 1 Axes>"
      ]
     },
     "metadata": {},
     "output_type": "display_data"
    }
   ],
   "source": [
    "# Group by Country the sum of Payment_Amount\n",
    "grouped_df = df.groupby('Country')['Payment_Amount'].sum()\n",
    "\n",
    "grouped_plot = grouped_df.plot.bar(rot = 0,\n",
    "                                   ylabel = 'Payment Amount',\n",
    "                                   title = 'Volume of Sales by Country',\n",
    "                                   ylim = (0,40000))\n",
    "# Add text labels to each bar\n",
    "for i, v in enumerate(grouped_df):\n",
    "    grouped_plot.text(i, v, f'{v:.2f}', ha='center', va='bottom')"
   ]
  },
  {
   "cell_type": "markdown",
   "id": "40a9dff5-f354-49df-949f-13ac4da69b3f",
   "metadata": {},
   "source": [
    "# Objetive 3 - Identify which films are more rented and have high volume of sales"
   ]
  },
  {
   "cell_type": "code",
   "execution_count": 26,
   "id": "d7ff0220-6b1a-41a4-9b90-13e6f6dca09a",
   "metadata": {},
   "outputs": [],
   "source": [
    "# Group by Country the sum of Payment_Amount\n",
    "grouped_films_df = df.groupby('Film_Title')['Payment_Amount'].sum()"
   ]
  },
  {
   "cell_type": "code",
   "execution_count": 27,
   "id": "6b67d530-a609-4441-afa0-6320c9139f8c",
   "metadata": {},
   "outputs": [],
   "source": [
    "# Calculate the Number of Rentals of each Movie\n",
    "movie_counts = df['Film_Title'].value_counts()"
   ]
  },
  {
   "cell_type": "code",
   "execution_count": 28,
   "id": "40a65a33-0af3-4bbb-a28e-500875d33c1f",
   "metadata": {},
   "outputs": [
    {
     "data": {
      "text/html": [
       "<div>\n",
       "<style scoped>\n",
       "    .dataframe tbody tr th:only-of-type {\n",
       "        vertical-align: middle;\n",
       "    }\n",
       "\n",
       "    .dataframe tbody tr th {\n",
       "        vertical-align: top;\n",
       "    }\n",
       "\n",
       "    .dataframe thead th {\n",
       "        text-align: right;\n",
       "    }\n",
       "</style>\n",
       "<table border=\"1\" class=\"dataframe\">\n",
       "  <thead>\n",
       "    <tr style=\"text-align: right;\">\n",
       "      <th></th>\n",
       "      <th>Payment_Amount</th>\n",
       "      <th>Film_Count</th>\n",
       "    </tr>\n",
       "    <tr>\n",
       "      <th>Film_Title</th>\n",
       "      <th></th>\n",
       "      <th></th>\n",
       "    </tr>\n",
       "  </thead>\n",
       "  <tbody>\n",
       "    <tr>\n",
       "      <th>ACADEMY DINOSAUR</th>\n",
       "      <td>36.77</td>\n",
       "      <td>23</td>\n",
       "    </tr>\n",
       "    <tr>\n",
       "      <th>ACE GOLDFINGER</th>\n",
       "      <td>52.93</td>\n",
       "      <td>7</td>\n",
       "    </tr>\n",
       "    <tr>\n",
       "      <th>ADAPTATION HOLES</th>\n",
       "      <td>37.88</td>\n",
       "      <td>12</td>\n",
       "    </tr>\n",
       "    <tr>\n",
       "      <th>AFFAIR PREJUDICE</th>\n",
       "      <td>91.77</td>\n",
       "      <td>23</td>\n",
       "    </tr>\n",
       "    <tr>\n",
       "      <th>AFRICAN EGG</th>\n",
       "      <td>51.88</td>\n",
       "      <td>12</td>\n",
       "    </tr>\n",
       "    <tr>\n",
       "      <th>...</th>\n",
       "      <td>...</td>\n",
       "      <td>...</td>\n",
       "    </tr>\n",
       "    <tr>\n",
       "      <th>YOUNG LANGUAGE</th>\n",
       "      <td>6.93</td>\n",
       "      <td>7</td>\n",
       "    </tr>\n",
       "    <tr>\n",
       "      <th>YOUTH KICK</th>\n",
       "      <td>16.94</td>\n",
       "      <td>6</td>\n",
       "    </tr>\n",
       "    <tr>\n",
       "      <th>ZHIVAGO CORE</th>\n",
       "      <td>14.91</td>\n",
       "      <td>9</td>\n",
       "    </tr>\n",
       "    <tr>\n",
       "      <th>ZOOLANDER FICTION</th>\n",
       "      <td>73.83</td>\n",
       "      <td>17</td>\n",
       "    </tr>\n",
       "    <tr>\n",
       "      <th>ZORRO ARK</th>\n",
       "      <td>214.69</td>\n",
       "      <td>31</td>\n",
       "    </tr>\n",
       "  </tbody>\n",
       "</table>\n",
       "<p>958 rows × 2 columns</p>\n",
       "</div>"
      ],
      "text/plain": [
       "                   Payment_Amount  Film_Count\n",
       "Film_Title                                   \n",
       "ACADEMY DINOSAUR            36.77          23\n",
       "ACE GOLDFINGER              52.93           7\n",
       "ADAPTATION HOLES            37.88          12\n",
       "AFFAIR PREJUDICE            91.77          23\n",
       "AFRICAN EGG                 51.88          12\n",
       "...                           ...         ...\n",
       "YOUNG LANGUAGE               6.93           7\n",
       "YOUTH KICK                  16.94           6\n",
       "ZHIVAGO CORE                14.91           9\n",
       "ZOOLANDER FICTION           73.83          17\n",
       "ZORRO ARK                  214.69          31\n",
       "\n",
       "[958 rows x 2 columns]"
      ]
     },
     "execution_count": 28,
     "metadata": {},
     "output_type": "execute_result"
    }
   ],
   "source": [
    "# Merge the Payment_Amount and the Value_Counts on Film_Title\n",
    "merged_df = pd.merge(grouped_films_df, movie_counts, on = 'Film_Title', how = 'inner')\n",
    "\n",
    "# Changing the name of the columns\n",
    "merged_df.rename(columns = {'Film_Title': 'Film_Title', 'count': 'Film_Count'}, inplace = True)\n",
    "\n",
    "merged_df"
   ]
  },
  {
   "cell_type": "code",
   "execution_count": 29,
   "id": "f753d12b-162c-4ffc-bf4f-1f8f7136628a",
   "metadata": {},
   "outputs": [
    {
     "data": {
      "text/html": [
       "<div>\n",
       "<style scoped>\n",
       "    .dataframe tbody tr th:only-of-type {\n",
       "        vertical-align: middle;\n",
       "    }\n",
       "\n",
       "    .dataframe tbody tr th {\n",
       "        vertical-align: top;\n",
       "    }\n",
       "\n",
       "    .dataframe thead th {\n",
       "        text-align: right;\n",
       "    }\n",
       "</style>\n",
       "<table border=\"1\" class=\"dataframe\">\n",
       "  <thead>\n",
       "    <tr style=\"text-align: right;\">\n",
       "      <th></th>\n",
       "      <th>Payment_Amount</th>\n",
       "      <th>Film_Count</th>\n",
       "    </tr>\n",
       "    <tr>\n",
       "      <th>Film_Title</th>\n",
       "      <th></th>\n",
       "      <th></th>\n",
       "    </tr>\n",
       "  </thead>\n",
       "  <tbody>\n",
       "    <tr>\n",
       "      <th>TELEGRAPH VOYAGE</th>\n",
       "      <td>231.73</td>\n",
       "      <td>27</td>\n",
       "    </tr>\n",
       "    <tr>\n",
       "      <th>WIFE TURN</th>\n",
       "      <td>223.69</td>\n",
       "      <td>31</td>\n",
       "    </tr>\n",
       "    <tr>\n",
       "      <th>ZORRO ARK</th>\n",
       "      <td>214.69</td>\n",
       "      <td>31</td>\n",
       "    </tr>\n",
       "    <tr>\n",
       "      <th>GOODFELLAS SALUTE</th>\n",
       "      <td>209.69</td>\n",
       "      <td>31</td>\n",
       "    </tr>\n",
       "    <tr>\n",
       "      <th>SATURDAY LAMBS</th>\n",
       "      <td>204.72</td>\n",
       "      <td>28</td>\n",
       "    </tr>\n",
       "    <tr>\n",
       "      <th>TITANS JERK</th>\n",
       "      <td>201.71</td>\n",
       "      <td>29</td>\n",
       "    </tr>\n",
       "    <tr>\n",
       "      <th>TORQUE BOUND</th>\n",
       "      <td>198.72</td>\n",
       "      <td>27</td>\n",
       "    </tr>\n",
       "    <tr>\n",
       "      <th>HARRY IDAHO</th>\n",
       "      <td>195.70</td>\n",
       "      <td>30</td>\n",
       "    </tr>\n",
       "    <tr>\n",
       "      <th>INNOCENT USUAL</th>\n",
       "      <td>191.74</td>\n",
       "      <td>26</td>\n",
       "    </tr>\n",
       "    <tr>\n",
       "      <th>HUSTLER PARTY</th>\n",
       "      <td>190.78</td>\n",
       "      <td>22</td>\n",
       "    </tr>\n",
       "  </tbody>\n",
       "</table>\n",
       "</div>"
      ],
      "text/plain": [
       "                   Payment_Amount  Film_Count\n",
       "Film_Title                                   \n",
       "TELEGRAPH VOYAGE           231.73          27\n",
       "WIFE TURN                  223.69          31\n",
       "ZORRO ARK                  214.69          31\n",
       "GOODFELLAS SALUTE          209.69          31\n",
       "SATURDAY LAMBS             204.72          28\n",
       "TITANS JERK                201.71          29\n",
       "TORQUE BOUND               198.72          27\n",
       "HARRY IDAHO                195.70          30\n",
       "INNOCENT USUAL             191.74          26\n",
       "HUSTLER PARTY              190.78          22"
      ]
     },
     "execution_count": 29,
     "metadata": {},
     "output_type": "execute_result"
    }
   ],
   "source": [
    "# The Top 10 most paied films based on Payment_Amount\n",
    "merged_df.sort_values('Payment_Amount', ascending = False).head(10)"
   ]
  },
  {
   "cell_type": "code",
   "execution_count": 30,
   "id": "534b06d0-c1f9-4e47-90a8-75744670d08e",
   "metadata": {},
   "outputs": [
    {
     "data": {
      "text/html": [
       "<div>\n",
       "<style scoped>\n",
       "    .dataframe tbody tr th:only-of-type {\n",
       "        vertical-align: middle;\n",
       "    }\n",
       "\n",
       "    .dataframe tbody tr th {\n",
       "        vertical-align: top;\n",
       "    }\n",
       "\n",
       "    .dataframe thead th {\n",
       "        text-align: right;\n",
       "    }\n",
       "</style>\n",
       "<table border=\"1\" class=\"dataframe\">\n",
       "  <thead>\n",
       "    <tr style=\"text-align: right;\">\n",
       "      <th></th>\n",
       "      <th>Payment_Amount</th>\n",
       "      <th>Film_Count</th>\n",
       "    </tr>\n",
       "    <tr>\n",
       "      <th>Film_Title</th>\n",
       "      <th></th>\n",
       "      <th></th>\n",
       "    </tr>\n",
       "  </thead>\n",
       "  <tbody>\n",
       "    <tr>\n",
       "      <th>BUCKET BROTHERHOOD</th>\n",
       "      <td>180.66</td>\n",
       "      <td>34</td>\n",
       "    </tr>\n",
       "    <tr>\n",
       "      <th>ROCKETEER MOTHER</th>\n",
       "      <td>116.67</td>\n",
       "      <td>33</td>\n",
       "    </tr>\n",
       "    <tr>\n",
       "      <th>RIDGEMONT SUBMARINE</th>\n",
       "      <td>130.68</td>\n",
       "      <td>32</td>\n",
       "    </tr>\n",
       "    <tr>\n",
       "      <th>GRIT CLOCKWORK</th>\n",
       "      <td>110.68</td>\n",
       "      <td>32</td>\n",
       "    </tr>\n",
       "    <tr>\n",
       "      <th>JUGGLER HARDLY</th>\n",
       "      <td>96.68</td>\n",
       "      <td>32</td>\n",
       "    </tr>\n",
       "    <tr>\n",
       "      <th>FORWARD TEMPLE</th>\n",
       "      <td>128.68</td>\n",
       "      <td>32</td>\n",
       "    </tr>\n",
       "    <tr>\n",
       "      <th>SCALAWAG DUCK</th>\n",
       "      <td>172.68</td>\n",
       "      <td>32</td>\n",
       "    </tr>\n",
       "    <tr>\n",
       "      <th>ZORRO ARK</th>\n",
       "      <td>214.69</td>\n",
       "      <td>31</td>\n",
       "    </tr>\n",
       "    <tr>\n",
       "      <th>TIMBERLAND SKY</th>\n",
       "      <td>123.69</td>\n",
       "      <td>31</td>\n",
       "    </tr>\n",
       "    <tr>\n",
       "      <th>APACHE DIVINE</th>\n",
       "      <td>178.69</td>\n",
       "      <td>31</td>\n",
       "    </tr>\n",
       "  </tbody>\n",
       "</table>\n",
       "</div>"
      ],
      "text/plain": [
       "                     Payment_Amount  Film_Count\n",
       "Film_Title                                     \n",
       "BUCKET BROTHERHOOD           180.66          34\n",
       "ROCKETEER MOTHER             116.67          33\n",
       "RIDGEMONT SUBMARINE          130.68          32\n",
       "GRIT CLOCKWORK               110.68          32\n",
       "JUGGLER HARDLY                96.68          32\n",
       "FORWARD TEMPLE               128.68          32\n",
       "SCALAWAG DUCK                172.68          32\n",
       "ZORRO ARK                    214.69          31\n",
       "TIMBERLAND SKY               123.69          31\n",
       "APACHE DIVINE                178.69          31"
      ]
     },
     "execution_count": 30,
     "metadata": {},
     "output_type": "execute_result"
    }
   ],
   "source": [
    "# The Top 10 most rented movies based on Number of Rentals\n",
    "merged_df.sort_values('Film_Count', ascending = False).head(10)\n"
   ]
  },
  {
   "cell_type": "code",
   "execution_count": 31,
   "id": "5d9e60f7-d4b0-4b53-aef7-910c26f7192f",
   "metadata": {},
   "outputs": [
    {
     "data": {
      "text/plain": [
       "Text(0.5, 1.0, 'Payment Amount and Count')"
      ]
     },
     "execution_count": 31,
     "metadata": {},
     "output_type": "execute_result"
    },
    {
     "data": {
      "image/png": "[encoded data removed]",
      "text/plain": [
       "<Figure size 640x480 with 1 Axes>"
      ]
     },
     "metadata": {},
     "output_type": "display_data"
    }
   ],
   "source": [
    "ax = merged_df.sort_values('Payment_Amount', ascending = False).head(10)\n",
    "ax.plot.barh()\n",
    "plt.ylabel('Film Title')\n",
    "plt.title('Payment Amount and Count')"
   ]
  },
  {
   "cell_type": "markdown",
   "id": "2165dbda-5622-4cfd-b607-688043659cac",
   "metadata": {},
   "source": [
    "# Extra - Replacement Cost for Films that weren't returned"
   ]
  },
  {
   "cell_type": "code",
   "execution_count": 32,
   "id": "84426179-a662-49cf-9225-809c7f4568ff",
   "metadata": {},
   "outputs": [],
   "source": [
    "# Make a DataFrame with only not returned films\n",
    "df_not_returned = df[df.isnull().any(axis=1)]"
   ]
  },
  {
   "cell_type": "code",
   "execution_count": 33,
   "id": "227f7e07-8682-438b-be90-b6c4a394cd48",
   "metadata": {},
   "outputs": [],
   "source": [
    "# Films and respective Replace Cost\n",
    "df_not_returned_grouped = df_not_returned.groupby('Film_Title')['Film_Replace_Cost'].sum().sort_index()"
   ]
  },
  {
   "cell_type": "code",
   "execution_count": 34,
   "id": "b6457d19-9c43-4f74-b52f-a4fcff7cd0fb",
   "metadata": {},
   "outputs": [],
   "source": [
    "# Number of times that each film was not returned\n",
    "df_not_returned_counts = df_not_returned['Film_Title'].value_counts().sort_index()"
   ]
  },
  {
   "cell_type": "code",
   "execution_count": 35,
   "id": "ae389585-a7fb-4864-aca4-63cc96265c8c",
   "metadata": {},
   "outputs": [],
   "source": [
    "# Merging Replace Cost and Number of Times based on Film Title\n",
    "merged_df_not_returned = pd.merge(df_not_returned_grouped, df_not_returned_counts, on = 'Film_Title', how = 'inner')\n",
    "ax2 = merged_df_not_returned.sort_values('Film_Replace_Cost', ascending = False).head(10)"
   ]
  },
  {
   "cell_type": "code",
   "execution_count": 36,
   "id": "fc115d40-e220-459a-b02c-b6bd8279204e",
   "metadata": {},
   "outputs": [
    {
     "data": {
      "image/png": "[encoded data removed]",
      "text/plain": [
       "<Figure size 640x480 with 1 Axes>"
      ]
     },
     "metadata": {},
     "output_type": "display_data"
    }
   ],
   "source": [
    "# Set the bar chart\n",
    "plot = ax2['Film_Replace_Cost'].plot.barh(y      = 'Film_Replace_Cost',\n",
    "                                          title  = 'Expensive Films that need Replacement',\n",
    "                                          ylabel = '',\n",
    "                                          xlabel = 'Cost of Replacement',\n",
    "                                          xlim   = (0,65))\n",
    "\n",
    "# Add text labels to each bar\n",
    "for i, v in enumerate(ax2['count']):\n",
    "    plot.text(v, i, f'{v} Films not returned', ha = 'left', va = 'center', color = 'black')\n",
    "    \n",
    "for i, v in enumerate(ax2['Film_Replace_Cost']):\n",
    "    plot.text(v, i, f'{np.round(v)}', ha = 'left', va = 'center')\n"
   ]
  },
  {
   "cell_type": "code",
   "execution_count": null,
   "id": "356a5bb5-353a-4481-93fb-1c7c0d6014e8",
   "metadata": {},
   "outputs": [],
   "source": []
  }
 ],
 "metadata": {
  "kernelspec": {
   "display_name": "Python 3 (ipykernel)",
   "language": "python",
   "name": "python3"
  },
  "language_info": {
   "codemirror_mode": {
    "name": "ipython",
    "version": 3
   },
   "file_extension": ".py",
   "mimetype": "text/x-python",
   "name": "python",
   "nbconvert_exporter": "python",
   "pygments_lexer": "ipython3",
   "version": "3.11.8"
  }
 },
 "nbformat": 4,
 "nbformat_minor": 5
}
